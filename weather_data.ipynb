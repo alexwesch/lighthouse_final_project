{
 "cells": [
  {
   "cell_type": "code",
   "execution_count": 1,
   "id": "2f15f80d-d8df-4e51-a51f-3f780475b077",
   "metadata": {},
   "outputs": [],
   "source": [
    "import requests as re\n",
    "import os\n",
    "import pandas as pd\n",
    "import numpy as np\n",
    "from datetime import timedelta, date"
   ]
  },
  {
   "cell_type": "code",
   "execution_count": null,
   "id": "3e62455b-7b40-4e0c-a37c-c39600fd56a6",
   "metadata": {},
   "outputs": [],
   "source": [
    "for date in deate_list:\n",
    "        url = 'http://api.weatherapi.com/v1/history.json?key='+weather_api+'&q='+'prague'+'&dt='+date+'&hour='+'12'\n",
    "        r = re.get(url)\n",
    "        res = r.json()\n",
    "        temp_list = [date,airport,res['forecast']['forecastday'][0]['hour'][0]['condition']['text']]\n",
    "        condition_list.append(temp_list)"
   ]
  }
 ],
 "metadata": {
  "kernelspec": {
   "display_name": "datasci",
   "language": "python",
   "name": "datasci"
  },
  "language_info": {
   "codemirror_mode": {
    "name": "ipython",
    "version": 3
   },
   "file_extension": ".py",
   "mimetype": "text/x-python",
   "name": "python",
   "nbconvert_exporter": "python",
   "pygments_lexer": "ipython3",
   "version": "3.10.4"
  }
 },
 "nbformat": 4,
 "nbformat_minor": 5
}
