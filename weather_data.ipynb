{
 "cells": [
  {
   "cell_type": "code",
   "execution_count": 1,
   "id": "2f15f80d-d8df-4e51-a51f-3f780475b077",
   "metadata": {},
   "outputs": [],
   "source": [
    "import requests as re\n",
    "import os\n",
    "import pandas as pd\n",
    "import numpy as np\n",
    "from datetime import timedelta, date"
   ]
  },
  {
   "cell_type": "code",
   "execution_count": 17,
   "id": "63eec7ce-4b5b-4a17-884a-55e253dbfb65",
   "metadata": {},
   "outputs": [],
   "source": [
    "#weather_api = os.environ['weather_api_key']\n",
    "weather_api = 'a1953b2224a7447c9fc03904221209'"
   ]
  },
  {
   "cell_type": "code",
   "execution_count": 5,
   "id": "49a7c370-1410-4bb5-917f-bcb7dccc7250",
   "metadata": {},
   "outputs": [
    {
     "data": {
      "text/html": [
       "<div>\n",
       "<style scoped>\n",
       "    .dataframe tbody tr th:only-of-type {\n",
       "        vertical-align: middle;\n",
       "    }\n",
       "\n",
       "    .dataframe tbody tr th {\n",
       "        vertical-align: top;\n",
       "    }\n",
       "\n",
       "    .dataframe thead th {\n",
       "        text-align: right;\n",
       "    }\n",
       "</style>\n",
       "<table border=\"1\" class=\"dataframe\">\n",
       "  <thead>\n",
       "    <tr style=\"text-align: right;\">\n",
       "      <th></th>\n",
       "      <th>ds</th>\n",
       "      <th>y</th>\n",
       "    </tr>\n",
       "  </thead>\n",
       "  <tbody>\n",
       "    <tr>\n",
       "      <th>0</th>\n",
       "      <td>2019-06-01</td>\n",
       "      <td>4087.236534</td>\n",
       "    </tr>\n",
       "    <tr>\n",
       "      <th>1</th>\n",
       "      <td>2019-06-02</td>\n",
       "      <td>65.848327</td>\n",
       "    </tr>\n",
       "    <tr>\n",
       "      <th>2</th>\n",
       "      <td>2019-06-03</td>\n",
       "      <td>1364.979529</td>\n",
       "    </tr>\n",
       "    <tr>\n",
       "      <th>3</th>\n",
       "      <td>2019-06-04</td>\n",
       "      <td>68385.521621</td>\n",
       "    </tr>\n",
       "    <tr>\n",
       "      <th>4</th>\n",
       "      <td>2019-06-05</td>\n",
       "      <td>65135.657001</td>\n",
       "    </tr>\n",
       "  </tbody>\n",
       "</table>\n",
       "</div>"
      ],
      "text/plain": [
       "           ds             y\n",
       "0  2019-06-01   4087.236534\n",
       "1  2019-06-02     65.848327\n",
       "2  2019-06-03   1364.979529\n",
       "3  2019-06-04  68385.521621\n",
       "4  2019-06-05  65135.657001"
      ]
     },
     "execution_count": 5,
     "metadata": {},
     "output_type": "execute_result"
    }
   ],
   "source": [
    "data=pd.read_csv('prophetdf.csv')\n",
    "data.head()"
   ]
  },
  {
   "cell_type": "code",
   "execution_count": 6,
   "id": "35bc1407-cce7-421a-82c1-59999ffdc877",
   "metadata": {},
   "outputs": [],
   "source": [
    "date_list = data['ds'].to_list()"
   ]
  },
  {
   "cell_type": "code",
   "execution_count": null,
   "id": "c64f2f5d-e51c-4a3a-9d58-8a0b26df9d1d",
   "metadata": {},
   "outputs": [],
   "source": []
  },
  {
   "cell_type": "code",
   "execution_count": null,
   "id": "4e3e621a-6c48-4fdb-b981-fc979664d40d",
   "metadata": {},
   "outputs": [],
   "source": []
  },
  {
   "cell_type": "code",
   "execution_count": 34,
   "id": "3e62455b-7b40-4e0c-a37c-c39600fd56a6",
   "metadata": {},
   "outputs": [],
   "source": [
    "condition_list = []\n",
    "for date in date_list:\n",
    "        url = 'http://api.weatherapi.com/v1/history.json?key='+weather_api+'&q='+'prague'+'&dt='+date+'&hour='+'12'\n",
    "        r = re.get(url)\n",
    "        res = r.json()\n",
    "        conditions = [date, res['forecast']['forecastday'][0]['day']['avgtemp_c'],res['forecast']['forecastday'][0]['hour'][0]['condition']['text'],res['forecast']['forecastday'][0]['day']['avghumidity']]\n",
    "        condition_list.append(conditions)"
   ]
  },
  {
   "cell_type": "code",
   "execution_count": 35,
   "id": "37ebd3ac-837d-4ff2-bb1b-c6f29ddb089c",
   "metadata": {},
   "outputs": [],
   "source": [
    "weatherdf = pd.DataFrame(data = condition_list, columns = ['ds', 'temperature', 'condition', 'humidity'])"
   ]
  },
  {
   "cell_type": "code",
   "execution_count": 38,
   "id": "5f08ada5-5848-4099-90ab-231a5fb19ff0",
   "metadata": {},
   "outputs": [],
   "source": [
    "weatherdf.to_csv('weather.csv',index=False)"
   ]
  },
  {
   "cell_type": "code",
   "execution_count": 37,
   "id": "5ec40105-5319-4aa3-8493-00c20d6fad4b",
   "metadata": {},
   "outputs": [
    {
     "data": {
      "text/plain": [
       "array(['Sunny', 'Moderate or heavy rain shower',\n",
       "       'Thundery outbreaks possible', 'Cloudy', 'Light rain shower',\n",
       "       'Partly cloudy', 'Patchy rain possible',\n",
       "       'Patchy light rain with thunder', 'Moderate rain at times',\n",
       "       'Patchy light rain', 'Moderate rain', 'Light rain', 'Overcast',\n",
       "       'Light sleet', 'Patchy sleet possible', 'Patchy light snow',\n",
       "       'Moderate or heavy snow showers', 'Light snow', 'Heavy snow',\n",
       "       'Patchy heavy snow', 'Light drizzle', 'Patchy light drizzle',\n",
       "       'Heavy rain', 'Moderate snow', 'Fog', 'Mist', 'Light snow showers'],\n",
       "      dtype=object)"
      ]
     },
     "execution_count": 37,
     "metadata": {},
     "output_type": "execute_result"
    }
   ],
   "source": [
    "weatherdf['condition'].unique()"
   ]
  },
  {
   "cell_type": "code",
   "execution_count": 19,
   "id": "81d352fa-a17c-46b4-9cbc-decdf6b23ec2",
   "metadata": {},
   "outputs": [],
   "source": [
    "#categorize weather condition into categories on serverity\n",
    "clear = ['Sunny','Cloudy','Partly cloudy', 'Overcast']\n",
    "vlight = ['Patchy rain possible','Patchy sleet possible','Thundery outbreaks possible']\n",
    "light = ['Light drizzle', 'Patchy light drizzle','Light sleet', 'Patchy light snow', 'Fog', 'Mist','Light snow showers', 'Patchy light rain with thunder','Light rain shower','Light snow']\n",
    "moderate = ['Moderate rain at times','Moderate rain','Patchy heavy snow', 'Moderate snow']\n",
    "severe = ['Heavy snow','Heavy rain','Moderate or heavy snow showers','Moderate or heavy rain shower']"
   ]
  },
  {
   "cell_type": "code",
   "execution_count": 20,
   "id": "800ab97a-97c4-4ea0-89ac-578cf6c19dcc",
   "metadata": {},
   "outputs": [],
   "source": [
    "def condition_cat(df):\n",
    "    if \n",
    "    "
   ]
  },
  {
   "cell_type": "code",
   "execution_count": 33,
   "id": "85880aa3-4390-428a-9a86-203c5eabee5e",
   "metadata": {},
   "outputs": [
    {
     "data": {
      "text/plain": [
       "{'maxtemp_c': 27.2,\n",
       " 'maxtemp_f': 81.0,\n",
       " 'mintemp_c': 17.8,\n",
       " 'mintemp_f': 64.0,\n",
       " 'avgtemp_c': 24.8,\n",
       " 'avgtemp_f': 76.6,\n",
       " 'maxwind_mph': 5.6,\n",
       " 'maxwind_kph': 9.0,\n",
       " 'totalprecip_mm': 0.0,\n",
       " 'totalprecip_in': 0.0,\n",
       " 'avgvis_km': 10.0,\n",
       " 'avgvis_miles': 6.0,\n",
       " 'avghumidity': 58.0,\n",
       " 'condition': {'text': 'Partly cloudy',\n",
       "  'icon': '//cdn.weatherapi.com/weather/64x64/day/116.png',\n",
       "  'code': 1003},\n",
       " 'uv': 0.0}"
      ]
     },
     "execution_count": 33,
     "metadata": {},
     "output_type": "execute_result"
    }
   ],
   "source": []
  }
 ],
 "metadata": {
  "kernelspec": {
   "display_name": "datasci",
   "language": "python",
   "name": "datasci"
  },
  "language_info": {
   "codemirror_mode": {
    "name": "ipython",
    "version": 3
   },
   "file_extension": ".py",
   "mimetype": "text/x-python",
   "name": "python",
   "nbconvert_exporter": "python",
   "pygments_lexer": "ipython3",
   "version": "3.10.4"
  }
 },
 "nbformat": 4,
 "nbformat_minor": 5
}
