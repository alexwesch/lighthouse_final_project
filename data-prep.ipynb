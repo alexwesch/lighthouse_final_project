{
 "cells": [
  {
   "cell_type": "code",
   "execution_count": 1,
   "id": "ce4678a7-d52e-4b32-8f44-e1b0b0a510fd",
   "metadata": {},
   "outputs": [],
   "source": [
    "import pandas as pd\n",
    "import numpy as np\n",
    "import matplotlib.pyplot as plt\n",
    "import seaborn as SNS\n",
    "%matplotlib inline"
   ]
  },
  {
   "cell_type": "code",
   "execution_count": 2,
   "id": "30442fa8-d7b7-4c6a-9103-1c1c9cc2120b",
   "metadata": {},
   "outputs": [],
   "source": [
    "#load datasets\n",
    "orders = pd.read_csv('data\\orders.csv', sep = ';')\n",
    "items = pd.read_csv('data\\items.csv', sep = ';')\n"
   ]
  },
  {
   "cell_type": "code",
   "execution_count": 3,
   "id": "c0408e54-41a6-4bfa-ac0d-627fb515de92",
   "metadata": {},
   "outputs": [],
   "source": [
    "#merge datasets on item_code\n",
    "sales = pd.merge(orders,items,on='item_code',how='left')"
   ]
  },
  {
   "cell_type": "code",
   "execution_count": 4,
   "id": "35059b2a-9905-4f90-be19-ac488f6bdf40",
   "metadata": {},
   "outputs": [],
   "source": [
    "#create sales and profit features, change date to datetime datatype\n",
    "sales['sales'] = sales['unit_price_vat_excl']* sales['quantity']\n",
    "sales['profit'] = (sales['unit_price_vat_excl'] - sales['unit_cogs'])* sales['quantity']\n",
    "sales['date']=  pd.to_datetime(sales['date'])"
   ]
  },
  {
   "cell_type": "code",
   "execution_count": 5,
   "id": "9c177a52-ab36-4c1a-901b-4f5686c1276c",
   "metadata": {},
   "outputs": [],
   "source": [
    "#drop unpaid orders and placeholder items\n",
    "sales_clean = sales[sales['brand_id']!=-1]\n",
    "sales_clean = sales_clean[sales_clean['payment'].notna()]"
   ]
  },
  {
   "cell_type": "code",
   "execution_count": 30,
   "id": "e37f393f-d830-45d3-8db9-58e27d91a83c",
   "metadata": {},
   "outputs": [],
   "source": [
    "#group sales by period\n",
    "daily_sales = sales_clean.groupby(sales_clean.date.dt.date)['sales'].sum()\n",
    "weekly_sales = sales_clean.groupby(pd.Grouper(key='date', freq='W'))['sales'].sum()"
   ]
  },
  {
   "cell_type": "code",
   "execution_count": null,
   "id": "b4209fe5-6331-4145-9d5a-f29a19870b83",
   "metadata": {},
   "outputs": [],
   "source": []
  },
  {
   "cell_type": "code",
   "execution_count": null,
   "id": "d2bee95a-d699-42ad-9c84-2288c2311ca8",
   "metadata": {},
   "outputs": [],
   "source": []
  },
  {
   "cell_type": "code",
   "execution_count": 35,
   "id": "6bac8e54-0e05-4362-81bb-856c4368a945",
   "metadata": {},
   "outputs": [
    {
     "data": {
      "text/html": [
       "<div>\n",
       "<style scoped>\n",
       "    .dataframe tbody tr th:only-of-type {\n",
       "        vertical-align: middle;\n",
       "    }\n",
       "\n",
       "    .dataframe tbody tr th {\n",
       "        vertical-align: top;\n",
       "    }\n",
       "\n",
       "    .dataframe thead th {\n",
       "        text-align: right;\n",
       "    }\n",
       "</style>\n",
       "<table border=\"1\" class=\"dataframe\">\n",
       "  <thead>\n",
       "    <tr style=\"text-align: right;\">\n",
       "      <th></th>\n",
       "      <th>ds</th>\n",
       "      <th>y</th>\n",
       "    </tr>\n",
       "  </thead>\n",
       "  <tbody>\n",
       "    <tr>\n",
       "      <th>0</th>\n",
       "      <td>2019-06-01</td>\n",
       "      <td>4087.236534</td>\n",
       "    </tr>\n",
       "    <tr>\n",
       "      <th>1</th>\n",
       "      <td>2019-06-02</td>\n",
       "      <td>65.848327</td>\n",
       "    </tr>\n",
       "    <tr>\n",
       "      <th>2</th>\n",
       "      <td>2019-06-03</td>\n",
       "      <td>1364.979529</td>\n",
       "    </tr>\n",
       "    <tr>\n",
       "      <th>3</th>\n",
       "      <td>2019-06-04</td>\n",
       "      <td>68385.521621</td>\n",
       "    </tr>\n",
       "    <tr>\n",
       "      <th>4</th>\n",
       "      <td>2019-06-05</td>\n",
       "      <td>65135.657001</td>\n",
       "    </tr>\n",
       "  </tbody>\n",
       "</table>\n",
       "</div>"
      ],
      "text/plain": [
       "           ds             y\n",
       "0  2019-06-01   4087.236534\n",
       "1  2019-06-02     65.848327\n",
       "2  2019-06-03   1364.979529\n",
       "3  2019-06-04  68385.521621\n",
       "4  2019-06-05  65135.657001"
      ]
     },
     "execution_count": 35,
     "metadata": {},
     "output_type": "execute_result"
    }
   ],
   "source": [
    "#put data in format for prophet\n",
    "prophet_df= pd.DataFrame()\n",
    "prophet_df['y'] = daily_sales\n",
    "prophet_df = prophet_df.reset_index()\n",
    "prophet_df = prophet_df.rename(columns = {'date':'ds'})\n",
    "prophet_df.head()"
   ]
  },
  {
   "cell_type": "code",
   "execution_count": 36,
   "id": "53ae2785-ed71-4772-840f-5728bb299c60",
   "metadata": {},
   "outputs": [],
   "source": [
    "prophet_df.to_csv('prophetdf.csv')"
   ]
  },
  {
   "cell_type": "code",
   "execution_count": 34,
   "id": "f69f36e2-b4f1-416a-997b-eca9915fa8ee",
   "metadata": {},
   "outputs": [
    {
     "data": {
      "text/html": [
       "<div>\n",
       "<style scoped>\n",
       "    .dataframe tbody tr th:only-of-type {\n",
       "        vertical-align: middle;\n",
       "    }\n",
       "\n",
       "    .dataframe tbody tr th {\n",
       "        vertical-align: top;\n",
       "    }\n",
       "\n",
       "    .dataframe thead th {\n",
       "        text-align: right;\n",
       "    }\n",
       "</style>\n",
       "<table border=\"1\" class=\"dataframe\">\n",
       "  <thead>\n",
       "    <tr style=\"text-align: right;\">\n",
       "      <th></th>\n",
       "      <th>ds</th>\n",
       "      <th>y</th>\n",
       "    </tr>\n",
       "  </thead>\n",
       "  <tbody>\n",
       "    <tr>\n",
       "      <th>0</th>\n",
       "      <td>2019-06-02</td>\n",
       "      <td>4153.084860</td>\n",
       "    </tr>\n",
       "    <tr>\n",
       "      <th>1</th>\n",
       "      <td>2019-06-09</td>\n",
       "      <td>164184.680219</td>\n",
       "    </tr>\n",
       "    <tr>\n",
       "      <th>2</th>\n",
       "      <td>2019-06-16</td>\n",
       "      <td>131655.336749</td>\n",
       "    </tr>\n",
       "    <tr>\n",
       "      <th>3</th>\n",
       "      <td>2019-06-23</td>\n",
       "      <td>208592.609565</td>\n",
       "    </tr>\n",
       "    <tr>\n",
       "      <th>4</th>\n",
       "      <td>2019-06-30</td>\n",
       "      <td>132990.181248</td>\n",
       "    </tr>\n",
       "  </tbody>\n",
       "</table>\n",
       "</div>"
      ],
      "text/plain": [
       "          ds              y\n",
       "0 2019-06-02    4153.084860\n",
       "1 2019-06-09  164184.680219\n",
       "2 2019-06-16  131655.336749\n",
       "3 2019-06-23  208592.609565\n",
       "4 2019-06-30  132990.181248"
      ]
     },
     "execution_count": 34,
     "metadata": {},
     "output_type": "execute_result"
    }
   ],
   "source": [
    "#weekly data in format for prophet\n",
    "wprophet_df= pd.DataFrame()\n",
    "wprophet_df['y'] = weekly_sales\n",
    "wprophet_df = wprophet_df.reset_index()\n",
    "wprophet_df = wprophet_df.rename(columns = {'date':'ds'})\n",
    "wprophet_df.head()"
   ]
  },
  {
   "cell_type": "code",
   "execution_count": 37,
   "id": "fd01c3a5-cffb-4b43-8f8b-85671c385a12",
   "metadata": {},
   "outputs": [],
   "source": [
    "wprophet_df.to_csv('weekly_prophetdf.csv')"
   ]
  },
  {
   "cell_type": "code",
   "execution_count": null,
   "id": "c24dc3a9-842e-4345-b8f1-47e931fb5dfc",
   "metadata": {},
   "outputs": [],
   "source": [
    "#group by categories\n",
    "sales_cat = sales.groupby(['group0_id','date']).sum()\n",
    "footwear = sales_cat.loc[100]\n",
    "apparel = sales_cat.loc[200]\n",
    "equipment = sales_cat.loc[300]\n",
    "nuitrition = sales_cat.loc[400]"
   ]
  },
  {
   "cell_type": "code",
   "execution_count": null,
   "id": "3f8fd55e-abc9-4058-a6fa-d91dbdec40f8",
   "metadata": {},
   "outputs": [],
   "source": []
  }
 ],
 "metadata": {
  "kernelspec": {
   "display_name": "datasci",
   "language": "python",
   "name": "datasci"
  },
  "language_info": {
   "codemirror_mode": {
    "name": "ipython",
    "version": 3
   },
   "file_extension": ".py",
   "mimetype": "text/x-python",
   "name": "python",
   "nbconvert_exporter": "python",
   "pygments_lexer": "ipython3",
   "version": "3.10.4"
  }
 },
 "nbformat": 4,
 "nbformat_minor": 5
}
