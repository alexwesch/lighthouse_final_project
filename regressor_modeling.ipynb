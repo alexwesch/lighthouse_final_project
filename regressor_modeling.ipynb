{
 "cells": [
  {
   "cell_type": "code",
   "execution_count": 2,
   "id": "0a4b1c60-720e-41b4-bd1c-c6eada23f0f0",
   "metadata": {},
   "outputs": [],
   "source": [
    "import pandas as pd\n",
    "import numpy as np"
   ]
  },
  {
   "cell_type": "code",
   "execution_count": 3,
   "id": "c61f4d17-e938-4e3d-b738-6067845e814d",
   "metadata": {},
   "outputs": [],
   "source": [
    "import xgboost as xgb"
   ]
  },
  {
   "cell_type": "code",
   "execution_count": 4,
   "id": "4da3432f-e1bf-413c-a8dc-8f6b6a9c6f43",
   "metadata": {},
   "outputs": [],
   "source": [
    "import matplotlib.pyplot as plt\n",
    "import seaborn as SNS\n",
    "%matplotlib inline"
   ]
  },
  {
   "cell_type": "code",
   "execution_count": 5,
   "id": "af77f62a-c321-4325-b206-7c0b4a23e6f4",
   "metadata": {},
   "outputs": [],
   "source": [
    "from sklearn.preprocessing import StandardScaler\n",
    "from sklearn.metrics import mean_squared_error\n",
    "from sklearn.model_selection import GridSearchCV"
   ]
  },
  {
   "cell_type": "code",
   "execution_count": 107,
   "id": "00e4c55d-6104-438d-8d0d-928b1c1d6e35",
   "metadata": {},
   "outputs": [],
   "source": [
    "#import daily sales data\n",
    "sales = pd.read_csv('prophetdf.csv')\n",
    "sales['ds']=  pd.to_datetime(sales['ds'])\n",
    "#import prophet prediction\n",
    "forecast = pd.read_csv('prophet_forecast.csv')\n",
    "forecast = forecast[['ds', 'trend','yhat','weekly', 'yearly','holidays', 'yhat_lower', 'yhat_upper']]#'yhat_lower', 'yhat_upper'\n",
    "forecast['ds']=  pd.to_datetime(forecast['ds'])\n",
    "data = pd.merge(sales,forecast,on='ds',how='left')\n",
    "#import weather data\n",
    "weather = pd.read_csv('weather.csv')\n",
    "weather['ds']=  pd.to_datetime(weather['ds'])\n",
    "data = pd.merge(data,weather,on='ds',how='left')"
   ]
  },
  {
   "cell_type": "code",
   "execution_count": 108,
   "id": "d9f8e62f-74cf-4317-8577-569b5f19d48c",
   "metadata": {
    "tags": []
   },
   "outputs": [
    {
     "name": "stderr",
     "output_type": "stream",
     "text": [
      "C:\\Users\\Alex\\AppData\\Local\\Temp\\ipykernel_30044\\2806763636.py:3: FutureWarning: Series.dt.weekofyear and Series.dt.week have been deprecated. Please use Series.dt.isocalendar().week instead.\n",
      "  data['Week'] = data['ds'].dt.week\n"
     ]
    }
   ],
   "source": [
    "#holiday_season(nov 1 - dec 23)\n",
    "#data['Day'] = data['ds'].dt.day\n",
    "data['Week'] = data['ds'].dt.week\n",
    "data['Month'] = data['ds'].dt.month\n",
    "data['Year'] = data['ds'].dt.year\n",
    "data['DayofYear'] = data['ds'].dt.dayofyear\n",
    "data['DayofWeek'] = data['ds'].dt.dayofweek\n",
    "\n",
    "def holiday_season(x):\n",
    "    if 305 <= x <= 357:\n",
    "        return 1\n",
    "    return 0\n",
    "data['holiday_season'] = data['DayofYear'] .apply(holiday_season)\n",
    "#remove outliers and first month to match forecast df\n",
    "data = data.drop(index=[366,468,774,314,957]) #180, 213\n",
    "#add offset\n",
    "data['y1'] = data['y'].shift(1)\n",
    "data = data[30:]\n",
    "#set date to index\n",
    "data = data.reset_index(drop=True)"
   ]
  },
  {
   "cell_type": "code",
   "execution_count": 131,
   "id": "2a8dce47-bbea-4186-95bd-6a9cd4e499c6",
   "metadata": {},
   "outputs": [],
   "source": [
    "#split x / y and train / test\n",
    "X = data.drop(columns = ['ds','y', 'condition', 'condition_severity', 'y1'])#'stringency_index',\n",
    "y =  data['y']\n",
    "X_train = X[:-7]\n",
    "X_test = X[-7:]\n",
    "y_train = y[:-7]\n",
    "y_test = y[-7:]"
   ]
  },
  {
   "cell_type": "code",
   "execution_count": 88,
   "id": "09590893-e1b6-40b0-9386-c2a4026b4012",
   "metadata": {},
   "outputs": [
    {
     "data": {
      "text/html": [
       "<div>\n",
       "<style scoped>\n",
       "    .dataframe tbody tr th:only-of-type {\n",
       "        vertical-align: middle;\n",
       "    }\n",
       "\n",
       "    .dataframe tbody tr th {\n",
       "        vertical-align: top;\n",
       "    }\n",
       "\n",
       "    .dataframe thead th {\n",
       "        text-align: right;\n",
       "    }\n",
       "</style>\n",
       "<table border=\"1\" class=\"dataframe\">\n",
       "  <thead>\n",
       "    <tr style=\"text-align: right;\">\n",
       "      <th></th>\n",
       "      <th>trend</th>\n",
       "      <th>yhat</th>\n",
       "      <th>weekly</th>\n",
       "      <th>yearly</th>\n",
       "      <th>holidays</th>\n",
       "      <th>yhat_lower</th>\n",
       "      <th>yhat_upper</th>\n",
       "      <th>temperature</th>\n",
       "      <th>humidity</th>\n",
       "      <th>Week</th>\n",
       "      <th>Month</th>\n",
       "      <th>Year</th>\n",
       "      <th>DayofYear</th>\n",
       "      <th>DayofWeek</th>\n",
       "      <th>holiday_season</th>\n",
       "      <th>y1</th>\n",
       "    </tr>\n",
       "  </thead>\n",
       "  <tbody>\n",
       "    <tr>\n",
       "      <th>0</th>\n",
       "      <td>42910.668771</td>\n",
       "      <td>30871.938406</td>\n",
       "      <td>0.038724</td>\n",
       "      <td>-0.319278</td>\n",
       "      <td>0.000000</td>\n",
       "      <td>6310.605593</td>\n",
       "      <td>54678.287934</td>\n",
       "      <td>21.1</td>\n",
       "      <td>63.0</td>\n",
       "      <td>27</td>\n",
       "      <td>7</td>\n",
       "      <td>2019</td>\n",
       "      <td>183</td>\n",
       "      <td>1</td>\n",
       "      <td>0</td>\n",
       "      <td>30217.879866</td>\n",
       "    </tr>\n",
       "    <tr>\n",
       "      <th>1</th>\n",
       "      <td>42941.568091</td>\n",
       "      <td>29545.852006</td>\n",
       "      <td>0.004868</td>\n",
       "      <td>-0.316820</td>\n",
       "      <td>0.000000</td>\n",
       "      <td>3603.090208</td>\n",
       "      <td>53020.134368</td>\n",
       "      <td>18.8</td>\n",
       "      <td>51.0</td>\n",
       "      <td>27</td>\n",
       "      <td>7</td>\n",
       "      <td>2019</td>\n",
       "      <td>184</td>\n",
       "      <td>2</td>\n",
       "      <td>0</td>\n",
       "      <td>29825.892188</td>\n",
       "    </tr>\n",
       "    <tr>\n",
       "      <th>2</th>\n",
       "      <td>42972.467412</td>\n",
       "      <td>27928.754660</td>\n",
       "      <td>-0.036591</td>\n",
       "      <td>-0.313487</td>\n",
       "      <td>0.000000</td>\n",
       "      <td>3080.075047</td>\n",
       "      <td>54489.186101</td>\n",
       "      <td>20.4</td>\n",
       "      <td>54.0</td>\n",
       "      <td>27</td>\n",
       "      <td>7</td>\n",
       "      <td>2019</td>\n",
       "      <td>185</td>\n",
       "      <td>3</td>\n",
       "      <td>0</td>\n",
       "      <td>30148.139918</td>\n",
       "    </tr>\n",
       "    <tr>\n",
       "      <th>3</th>\n",
       "      <td>43003.366732</td>\n",
       "      <td>25372.628485</td>\n",
       "      <td>-0.056505</td>\n",
       "      <td>-0.309357</td>\n",
       "      <td>-0.044123</td>\n",
       "      <td>2042.728777</td>\n",
       "      <td>49271.745488</td>\n",
       "      <td>22.0</td>\n",
       "      <td>51.0</td>\n",
       "      <td>27</td>\n",
       "      <td>7</td>\n",
       "      <td>2019</td>\n",
       "      <td>186</td>\n",
       "      <td>4</td>\n",
       "      <td>0</td>\n",
       "      <td>28886.698448</td>\n",
       "    </tr>\n",
       "    <tr>\n",
       "      <th>4</th>\n",
       "      <td>43034.266053</td>\n",
       "      <td>23177.983567</td>\n",
       "      <td>-0.143097</td>\n",
       "      <td>-0.304512</td>\n",
       "      <td>-0.013797</td>\n",
       "      <td>-1590.290740</td>\n",
       "      <td>46652.295447</td>\n",
       "      <td>25.0</td>\n",
       "      <td>56.0</td>\n",
       "      <td>27</td>\n",
       "      <td>7</td>\n",
       "      <td>2019</td>\n",
       "      <td>187</td>\n",
       "      <td>5</td>\n",
       "      <td>0</td>\n",
       "      <td>29277.998737</td>\n",
       "    </tr>\n",
       "  </tbody>\n",
       "</table>\n",
       "</div>"
      ],
      "text/plain": [
       "          trend          yhat    weekly    yearly  holidays   yhat_lower  \\\n",
       "0  42910.668771  30871.938406  0.038724 -0.319278  0.000000  6310.605593   \n",
       "1  42941.568091  29545.852006  0.004868 -0.316820  0.000000  3603.090208   \n",
       "2  42972.467412  27928.754660 -0.036591 -0.313487  0.000000  3080.075047   \n",
       "3  43003.366732  25372.628485 -0.056505 -0.309357 -0.044123  2042.728777   \n",
       "4  43034.266053  23177.983567 -0.143097 -0.304512 -0.013797 -1590.290740   \n",
       "\n",
       "     yhat_upper  temperature  humidity  Week  Month  Year  DayofYear  \\\n",
       "0  54678.287934         21.1      63.0    27      7  2019        183   \n",
       "1  53020.134368         18.8      51.0    27      7  2019        184   \n",
       "2  54489.186101         20.4      54.0    27      7  2019        185   \n",
       "3  49271.745488         22.0      51.0    27      7  2019        186   \n",
       "4  46652.295447         25.0      56.0    27      7  2019        187   \n",
       "\n",
       "   DayofWeek  holiday_season            y1  \n",
       "0          1               0  30217.879866  \n",
       "1          2               0  29825.892188  \n",
       "2          3               0  30148.139918  \n",
       "3          4               0  28886.698448  \n",
       "4          5               0  29277.998737  "
      ]
     },
     "execution_count": 88,
     "metadata": {},
     "output_type": "execute_result"
    }
   ],
   "source": [
    "X.head()"
   ]
  },
  {
   "cell_type": "code",
   "execution_count": 132,
   "id": "dd52d00b-ac0a-43c3-bf1c-ec49449ff0b7",
   "metadata": {},
   "outputs": [],
   "source": [
    "model = xgb.XGBRegressor(n_estimators=1000, colsample_bytree =0.3,\n",
    " gamma = 0.0,\n",
    " learning_rate =  0.15,\n",
    " max_depth = 5,\n",
    " min_child_weight = 1)"
   ]
  },
  {
   "cell_type": "code",
   "execution_count": 133,
   "id": "8ab177f1-9ac9-45f4-90b2-9172d85f4aea",
   "metadata": {},
   "outputs": [
    {
     "data": {
      "text/plain": [
       "XGBRegressor(base_score=0.5, booster='gbtree', callbacks=None,\n",
       "             colsample_bylevel=1, colsample_bynode=1, colsample_bytree=0.3,\n",
       "             early_stopping_rounds=None, enable_categorical=False,\n",
       "             eval_metric=None, gamma=0.0, gpu_id=-1, grow_policy='depthwise',\n",
       "             importance_type=None, interaction_constraints='',\n",
       "             learning_rate=0.15, max_bin=256, max_cat_to_onehot=4,\n",
       "             max_delta_step=0, max_depth=5, max_leaves=0, min_child_weight=1,\n",
       "             missing=nan, monotone_constraints='()', n_estimators=1000,\n",
       "             n_jobs=0, num_parallel_tree=1, predictor='auto', random_state=0,\n",
       "             reg_alpha=0, reg_lambda=1, ...)"
      ]
     },
     "execution_count": 133,
     "metadata": {},
     "output_type": "execute_result"
    }
   ],
   "source": [
    "model.fit(X_train,y_train)"
   ]
  },
  {
   "cell_type": "code",
   "execution_count": 134,
   "id": "734a7b76-2905-430f-b4f5-15b64149d026",
   "metadata": {},
   "outputs": [],
   "source": [
    "y_pred = model.predict(X_test)"
   ]
  },
  {
   "cell_type": "code",
   "execution_count": 115,
   "id": "5d9f43fa-85bf-4c4f-8586-bb5f25defd86",
   "metadata": {},
   "outputs": [
    {
     "name": "stderr",
     "output_type": "stream",
     "text": [
      "C:\\Users\\Alex\\AppData\\Local\\Temp\\ipykernel_30044\\4080619257.py:6: SettingWithCopyWarning: \n",
      "A value is trying to be set on a copy of a slice from a DataFrame\n",
      "\n",
      "See the caveats in the documentation: https://pandas.pydata.org/pandas-docs/stable/user_guide/indexing.html#returning-a-view-versus-a-copy\n",
      "  X_test['y1'][x+len(X_train)+1] = float(pred)\n"
     ]
    }
   ],
   "source": [
    "y_pred = []\n",
    "for x in range(len(X_test)):\n",
    "    test = X_test[x:x+1]\n",
    "    #test = scaler.transform(test)\n",
    "    pred = model.predict(test)\n",
    "    X_test['y1'][x+len(X_train)+1] = float(pred) \n",
    "    y_pred.append(float(pred))\n"
   ]
  },
  {
   "cell_type": "code",
   "execution_count": 135,
   "id": "377cb5a9-a120-4dab-86eb-d6477a908ee8",
   "metadata": {},
   "outputs": [
    {
     "name": "stdout",
     "output_type": "stream",
     "text": [
      "rmse model: 9712.35962470799\n",
      "rmse prophet: 12383.716572385149\n"
     ]
    },
    {
     "data": {
      "text/html": [
       "<div>\n",
       "<style scoped>\n",
       "    .dataframe tbody tr th:only-of-type {\n",
       "        vertical-align: middle;\n",
       "    }\n",
       "\n",
       "    .dataframe tbody tr th {\n",
       "        vertical-align: top;\n",
       "    }\n",
       "\n",
       "    .dataframe thead th {\n",
       "        text-align: right;\n",
       "    }\n",
       "</style>\n",
       "<table border=\"1\" class=\"dataframe\">\n",
       "  <thead>\n",
       "    <tr style=\"text-align: right;\">\n",
       "      <th></th>\n",
       "      <th>actual</th>\n",
       "      <th>prediction</th>\n",
       "      <th>prophet</th>\n",
       "    </tr>\n",
       "  </thead>\n",
       "  <tbody>\n",
       "    <tr>\n",
       "      <th>916</th>\n",
       "      <td>96196.124898</td>\n",
       "      <td>98141.492188</td>\n",
       "      <td>99036.496545</td>\n",
       "    </tr>\n",
       "    <tr>\n",
       "      <th>917</th>\n",
       "      <td>92744.263348</td>\n",
       "      <td>89269.226562</td>\n",
       "      <td>91180.400508</td>\n",
       "    </tr>\n",
       "    <tr>\n",
       "      <th>918</th>\n",
       "      <td>101228.700023</td>\n",
       "      <td>121530.210938</td>\n",
       "      <td>117891.200706</td>\n",
       "    </tr>\n",
       "    <tr>\n",
       "      <th>919</th>\n",
       "      <td>107064.467839</td>\n",
       "      <td>119446.164062</td>\n",
       "      <td>124649.179829</td>\n",
       "    </tr>\n",
       "    <tr>\n",
       "      <th>920</th>\n",
       "      <td>110698.874419</td>\n",
       "      <td>104985.539062</td>\n",
       "      <td>117475.785954</td>\n",
       "    </tr>\n",
       "    <tr>\n",
       "      <th>921</th>\n",
       "      <td>100503.117963</td>\n",
       "      <td>105892.531250</td>\n",
       "      <td>115301.625990</td>\n",
       "    </tr>\n",
       "    <tr>\n",
       "      <th>922</th>\n",
       "      <td>97576.039846</td>\n",
       "      <td>101735.781250</td>\n",
       "      <td>112108.702382</td>\n",
       "    </tr>\n",
       "  </tbody>\n",
       "</table>\n",
       "</div>"
      ],
      "text/plain": [
       "            actual     prediction        prophet\n",
       "916   96196.124898   98141.492188   99036.496545\n",
       "917   92744.263348   89269.226562   91180.400508\n",
       "918  101228.700023  121530.210938  117891.200706\n",
       "919  107064.467839  119446.164062  124649.179829\n",
       "920  110698.874419  104985.539062  117475.785954\n",
       "921  100503.117963  105892.531250  115301.625990\n",
       "922   97576.039846  101735.781250  112108.702382"
      ]
     },
     "execution_count": 135,
     "metadata": {},
     "output_type": "execute_result"
    }
   ],
   "source": [
    "print('rmse model:', np.sqrt(mean_squared_error(y_test,y_pred)))\n",
    "print('rmse prophet:', np.sqrt(mean_squared_error(y_test,X_test['yhat'])))\n",
    "results = pd.DataFrame()\n",
    "results['actual'] = y_test\n",
    "results['prediction'] = y_pred\n",
    "results['prophet'] = X_test['yhat']\n",
    "results"
   ]
  },
  {
   "cell_type": "code",
   "execution_count": 136,
   "id": "5c944f74-37b1-4a21-aaa5-0a20e2930f72",
   "metadata": {},
   "outputs": [],
   "source": [
    "#split x / y and train / test\n",
    "X = data.drop(columns = ['ds','y', 'condition', 'condition_severity', 'y1'])#'stringency_index',\n",
    "y =  data['y']\n",
    "X_train = X[:-23]\n",
    "X_test = X[-23:-16]\n",
    "y_train = y[:-23]\n",
    "y_test = y[-23:-16]"
   ]
  },
  {
   "cell_type": "code",
   "execution_count": 137,
   "id": "c44c3a42-2ccc-451c-93ef-0f5e3272f750",
   "metadata": {},
   "outputs": [
    {
     "data": {
      "text/plain": [
       "XGBRegressor(base_score=0.5, booster='gbtree', callbacks=None,\n",
       "             colsample_bylevel=1, colsample_bynode=1, colsample_bytree=0.3,\n",
       "             early_stopping_rounds=None, enable_categorical=False,\n",
       "             eval_metric=None, gamma=0.0, gpu_id=-1, grow_policy='depthwise',\n",
       "             importance_type=None, interaction_constraints='',\n",
       "             learning_rate=0.15, max_bin=256, max_cat_to_onehot=4,\n",
       "             max_delta_step=0, max_depth=5, max_leaves=0, min_child_weight=1,\n",
       "             missing=nan, monotone_constraints='()', n_estimators=1000,\n",
       "             n_jobs=0, num_parallel_tree=1, predictor='auto', random_state=0,\n",
       "             reg_alpha=0, reg_lambda=1, ...)"
      ]
     },
     "execution_count": 137,
     "metadata": {},
     "output_type": "execute_result"
    }
   ],
   "source": [
    "model.fit(X_train,y_train)"
   ]
  },
  {
   "cell_type": "code",
   "execution_count": 138,
   "id": "c96556de-b784-4e30-9982-cb4327734c92",
   "metadata": {},
   "outputs": [],
   "source": [
    "y_pred = model.predict(X_test)"
   ]
  },
  {
   "cell_type": "code",
   "execution_count": 120,
   "id": "941d5b8f-8f25-4e34-9100-a7b73efe1d55",
   "metadata": {},
   "outputs": [
    {
     "name": "stderr",
     "output_type": "stream",
     "text": [
      "C:\\Users\\Alex\\AppData\\Local\\Temp\\ipykernel_30044\\2571079088.py:6: SettingWithCopyWarning: \n",
      "A value is trying to be set on a copy of a slice from a DataFrame\n",
      "\n",
      "See the caveats in the documentation: https://pandas.pydata.org/pandas-docs/stable/user_guide/indexing.html#returning-a-view-versus-a-copy\n",
      "  X_test['y1'][x+len(X_train)+1] = float(pred)\n"
     ]
    }
   ],
   "source": [
    "y_pred = []\n",
    "for x in range(len(X_test)):\n",
    "    test = X_test[x:x+1]\n",
    "    #test = scaler.transform(test)\n",
    "    pred = model.predict(test)\n",
    "    X_test['y1'][x+len(X_train)+1] = float(pred) \n",
    "    y_pred.append(float(pred))"
   ]
  },
  {
   "cell_type": "code",
   "execution_count": 139,
   "id": "be202d14-e79e-40b8-9cec-a22fb74e6a68",
   "metadata": {},
   "outputs": [
    {
     "name": "stdout",
     "output_type": "stream",
     "text": [
      "rmse model: 16211.738124258745\n",
      "rmse prophet: 16301.88670826626\n"
     ]
    },
    {
     "data": {
      "text/html": [
       "<div>\n",
       "<style scoped>\n",
       "    .dataframe tbody tr th:only-of-type {\n",
       "        vertical-align: middle;\n",
       "    }\n",
       "\n",
       "    .dataframe tbody tr th {\n",
       "        vertical-align: top;\n",
       "    }\n",
       "\n",
       "    .dataframe thead th {\n",
       "        text-align: right;\n",
       "    }\n",
       "</style>\n",
       "<table border=\"1\" class=\"dataframe\">\n",
       "  <thead>\n",
       "    <tr style=\"text-align: right;\">\n",
       "      <th></th>\n",
       "      <th>actual</th>\n",
       "      <th>prediction</th>\n",
       "      <th>prophet</th>\n",
       "    </tr>\n",
       "  </thead>\n",
       "  <tbody>\n",
       "    <tr>\n",
       "      <th>900</th>\n",
       "      <td>74357.172142</td>\n",
       "      <td>83306.093750</td>\n",
       "      <td>100492.746190</td>\n",
       "    </tr>\n",
       "    <tr>\n",
       "      <th>901</th>\n",
       "      <td>74029.801498</td>\n",
       "      <td>68156.507812</td>\n",
       "      <td>93632.999568</td>\n",
       "    </tr>\n",
       "    <tr>\n",
       "      <th>902</th>\n",
       "      <td>59059.391196</td>\n",
       "      <td>55002.539062</td>\n",
       "      <td>79657.624656</td>\n",
       "    </tr>\n",
       "    <tr>\n",
       "      <th>903</th>\n",
       "      <td>84937.096045</td>\n",
       "      <td>59255.132812</td>\n",
       "      <td>76670.991090</td>\n",
       "    </tr>\n",
       "    <tr>\n",
       "      <th>904</th>\n",
       "      <td>95617.620952</td>\n",
       "      <td>77775.468750</td>\n",
       "      <td>104045.635878</td>\n",
       "    </tr>\n",
       "    <tr>\n",
       "      <th>905</th>\n",
       "      <td>118019.757473</td>\n",
       "      <td>94801.265625</td>\n",
       "      <td>106107.393556</td>\n",
       "    </tr>\n",
       "    <tr>\n",
       "      <th>906</th>\n",
       "      <td>106367.443052</td>\n",
       "      <td>92521.781250</td>\n",
       "      <td>97021.031772</td>\n",
       "    </tr>\n",
       "  </tbody>\n",
       "</table>\n",
       "</div>"
      ],
      "text/plain": [
       "            actual    prediction        prophet\n",
       "900   74357.172142  83306.093750  100492.746190\n",
       "901   74029.801498  68156.507812   93632.999568\n",
       "902   59059.391196  55002.539062   79657.624656\n",
       "903   84937.096045  59255.132812   76670.991090\n",
       "904   95617.620952  77775.468750  104045.635878\n",
       "905  118019.757473  94801.265625  106107.393556\n",
       "906  106367.443052  92521.781250   97021.031772"
      ]
     },
     "execution_count": 139,
     "metadata": {},
     "output_type": "execute_result"
    }
   ],
   "source": [
    "print('rmse model:', np.sqrt(mean_squared_error(y_test,y_pred)))\n",
    "print('rmse prophet:', np.sqrt(mean_squared_error(y_test,X_test['yhat'])))\n",
    "results = pd.DataFrame()\n",
    "results['actual'] = y_test\n",
    "results['prediction'] = y_pred\n",
    "results['prophet'] = X_test['yhat']\n",
    "results"
   ]
  },
  {
   "cell_type": "code",
   "execution_count": 126,
   "id": "ddef579f-0cad-4c70-907d-8670421ae118",
   "metadata": {},
   "outputs": [],
   "source": [
    "#split x / y and train / test\n",
    "X = data.drop(columns = ['ds','y', 'condition', 'condition_severity'])#'stringency_index',\n",
    "y =  data['y']\n",
    "X_train = X[:-30]\n",
    "X_test = X[-30:]\n",
    "y_train = y[:-30]\n",
    "y_test = y[-30:]"
   ]
  },
  {
   "cell_type": "code",
   "execution_count": 127,
   "id": "3a017a5a-9888-471d-bb66-77216279f16e",
   "metadata": {},
   "outputs": [
    {
     "data": {
      "text/plain": [
       "XGBRegressor(base_score=0.5, booster='gbtree', callbacks=None,\n",
       "             colsample_bylevel=1, colsample_bynode=1, colsample_bytree=0.3,\n",
       "             early_stopping_rounds=None, enable_categorical=False,\n",
       "             eval_metric=None, gamma=0.0, gpu_id=-1, grow_policy='depthwise',\n",
       "             importance_type=None, interaction_constraints='',\n",
       "             learning_rate=0.15, max_bin=256, max_cat_to_onehot=4,\n",
       "             max_delta_step=0, max_depth=5, max_leaves=0, min_child_weight=1,\n",
       "             missing=nan, monotone_constraints='()', n_estimators=1000,\n",
       "             n_jobs=0, num_parallel_tree=1, predictor='auto', random_state=0,\n",
       "             reg_alpha=0, reg_lambda=1, ...)"
      ]
     },
     "execution_count": 127,
     "metadata": {},
     "output_type": "execute_result"
    }
   ],
   "source": [
    "model.fit(X_train,y_train)"
   ]
  },
  {
   "cell_type": "code",
   "execution_count": 128,
   "id": "022c7f3d-cfb8-4cc3-8b33-d8ed04a3de1d",
   "metadata": {},
   "outputs": [
    {
     "name": "stderr",
     "output_type": "stream",
     "text": [
      "C:\\Users\\Alex\\AppData\\Local\\Temp\\ipykernel_30044\\4080619257.py:6: SettingWithCopyWarning: \n",
      "A value is trying to be set on a copy of a slice from a DataFrame\n",
      "\n",
      "See the caveats in the documentation: https://pandas.pydata.org/pandas-docs/stable/user_guide/indexing.html#returning-a-view-versus-a-copy\n",
      "  X_test['y1'][x+len(X_train)+1] = float(pred)\n"
     ]
    }
   ],
   "source": [
    "y_pred = []\n",
    "for x in range(len(X_test)):\n",
    "    test = X_test[x:x+1]\n",
    "    #test = scaler.transform(test)\n",
    "    pred = model.predict(test)\n",
    "    X_test['y1'][x+len(X_train)+1] = float(pred) \n",
    "    y_pred.append(float(pred))\n"
   ]
  },
  {
   "cell_type": "code",
   "execution_count": 129,
   "id": "9fce993d-4930-4a35-be4c-8f38c1d8d39d",
   "metadata": {},
   "outputs": [
    {
     "name": "stdout",
     "output_type": "stream",
     "text": [
      "rmse model: 16292.199290509168\n",
      "rmse prophet: 13204.064315783799\n"
     ]
    },
    {
     "data": {
      "text/html": [
       "<div>\n",
       "<style scoped>\n",
       "    .dataframe tbody tr th:only-of-type {\n",
       "        vertical-align: middle;\n",
       "    }\n",
       "\n",
       "    .dataframe tbody tr th {\n",
       "        vertical-align: top;\n",
       "    }\n",
       "\n",
       "    .dataframe thead th {\n",
       "        text-align: right;\n",
       "    }\n",
       "</style>\n",
       "<table border=\"1\" class=\"dataframe\">\n",
       "  <thead>\n",
       "    <tr style=\"text-align: right;\">\n",
       "      <th></th>\n",
       "      <th>actual</th>\n",
       "      <th>prediction</th>\n",
       "      <th>prophet</th>\n",
       "    </tr>\n",
       "  </thead>\n",
       "  <tbody>\n",
       "    <tr>\n",
       "      <th>903</th>\n",
       "      <td>84937.096045</td>\n",
       "      <td>63705.257812</td>\n",
       "      <td>76670.991090</td>\n",
       "    </tr>\n",
       "    <tr>\n",
       "      <th>904</th>\n",
       "      <td>95617.620952</td>\n",
       "      <td>81963.007812</td>\n",
       "      <td>104045.635878</td>\n",
       "    </tr>\n",
       "    <tr>\n",
       "      <th>905</th>\n",
       "      <td>118019.757473</td>\n",
       "      <td>89986.257812</td>\n",
       "      <td>106107.393556</td>\n",
       "    </tr>\n",
       "    <tr>\n",
       "      <th>906</th>\n",
       "      <td>106367.443052</td>\n",
       "      <td>82958.468750</td>\n",
       "      <td>97021.031772</td>\n",
       "    </tr>\n",
       "    <tr>\n",
       "      <th>907</th>\n",
       "      <td>110688.021437</td>\n",
       "      <td>81466.945312</td>\n",
       "      <td>93357.507048</td>\n",
       "    </tr>\n",
       "    <tr>\n",
       "      <th>908</th>\n",
       "      <td>82701.836914</td>\n",
       "      <td>66989.210938</td>\n",
       "      <td>89172.371986</td>\n",
       "    </tr>\n",
       "    <tr>\n",
       "      <th>909</th>\n",
       "      <td>44111.592040</td>\n",
       "      <td>54686.054688</td>\n",
       "      <td>78653.186429</td>\n",
       "    </tr>\n",
       "    <tr>\n",
       "      <th>910</th>\n",
       "      <td>54104.788051</td>\n",
       "      <td>48149.996094</td>\n",
       "      <td>69924.633081</td>\n",
       "    </tr>\n",
       "    <tr>\n",
       "      <th>911</th>\n",
       "      <td>93466.279742</td>\n",
       "      <td>71066.140625</td>\n",
       "      <td>104954.584380</td>\n",
       "    </tr>\n",
       "    <tr>\n",
       "      <th>912</th>\n",
       "      <td>102294.937063</td>\n",
       "      <td>83998.226562</td>\n",
       "      <td>111323.447990</td>\n",
       "    </tr>\n",
       "    <tr>\n",
       "      <th>913</th>\n",
       "      <td>98104.353685</td>\n",
       "      <td>85170.015625</td>\n",
       "      <td>104106.797290</td>\n",
       "    </tr>\n",
       "    <tr>\n",
       "      <th>914</th>\n",
       "      <td>104320.580030</td>\n",
       "      <td>88115.476562</td>\n",
       "      <td>102108.093329</td>\n",
       "    </tr>\n",
       "    <tr>\n",
       "      <th>915</th>\n",
       "      <td>101522.795968</td>\n",
       "      <td>85781.726562</td>\n",
       "      <td>99330.053625</td>\n",
       "    </tr>\n",
       "    <tr>\n",
       "      <th>916</th>\n",
       "      <td>96196.124898</td>\n",
       "      <td>86265.054688</td>\n",
       "      <td>99036.496545</td>\n",
       "    </tr>\n",
       "    <tr>\n",
       "      <th>917</th>\n",
       "      <td>92744.263348</td>\n",
       "      <td>77505.679688</td>\n",
       "      <td>91180.400508</td>\n",
       "    </tr>\n",
       "    <tr>\n",
       "      <th>918</th>\n",
       "      <td>101228.700023</td>\n",
       "      <td>103423.109375</td>\n",
       "      <td>117891.200706</td>\n",
       "    </tr>\n",
       "    <tr>\n",
       "      <th>919</th>\n",
       "      <td>107064.467839</td>\n",
       "      <td>109170.914062</td>\n",
       "      <td>124649.179829</td>\n",
       "    </tr>\n",
       "    <tr>\n",
       "      <th>920</th>\n",
       "      <td>110698.874419</td>\n",
       "      <td>96154.265625</td>\n",
       "      <td>117475.785954</td>\n",
       "    </tr>\n",
       "    <tr>\n",
       "      <th>921</th>\n",
       "      <td>100503.117963</td>\n",
       "      <td>97504.007812</td>\n",
       "      <td>115301.625990</td>\n",
       "    </tr>\n",
       "    <tr>\n",
       "      <th>922</th>\n",
       "      <td>97576.039846</td>\n",
       "      <td>93738.226562</td>\n",
       "      <td>112108.702382</td>\n",
       "    </tr>\n",
       "  </tbody>\n",
       "</table>\n",
       "</div>"
      ],
      "text/plain": [
       "            actual     prediction        prophet\n",
       "903   84937.096045   63705.257812   76670.991090\n",
       "904   95617.620952   81963.007812  104045.635878\n",
       "905  118019.757473   89986.257812  106107.393556\n",
       "906  106367.443052   82958.468750   97021.031772\n",
       "907  110688.021437   81466.945312   93357.507048\n",
       "908   82701.836914   66989.210938   89172.371986\n",
       "909   44111.592040   54686.054688   78653.186429\n",
       "910   54104.788051   48149.996094   69924.633081\n",
       "911   93466.279742   71066.140625  104954.584380\n",
       "912  102294.937063   83998.226562  111323.447990\n",
       "913   98104.353685   85170.015625  104106.797290\n",
       "914  104320.580030   88115.476562  102108.093329\n",
       "915  101522.795968   85781.726562   99330.053625\n",
       "916   96196.124898   86265.054688   99036.496545\n",
       "917   92744.263348   77505.679688   91180.400508\n",
       "918  101228.700023  103423.109375  117891.200706\n",
       "919  107064.467839  109170.914062  124649.179829\n",
       "920  110698.874419   96154.265625  117475.785954\n",
       "921  100503.117963   97504.007812  115301.625990\n",
       "922   97576.039846   93738.226562  112108.702382"
      ]
     },
     "execution_count": 129,
     "metadata": {},
     "output_type": "execute_result"
    }
   ],
   "source": [
    "print('rmse model:', np.sqrt(mean_squared_error(y_test,y_pred)))\n",
    "print('rmse prophet:', np.sqrt(mean_squared_error(y_test,X_test['yhat'])))\n",
    "results = pd.DataFrame()\n",
    "results['actual'] = y_test\n",
    "results['prediction'] = y_pred\n",
    "results['prophet'] = X_test['yhat']\n",
    "results"
   ]
  }
 ],
 "metadata": {
  "kernelspec": {
   "display_name": "datasci",
   "language": "python",
   "name": "datasci"
  },
  "language_info": {
   "codemirror_mode": {
    "name": "ipython",
    "version": 3
   },
   "file_extension": ".py",
   "mimetype": "text/x-python",
   "name": "python",
   "nbconvert_exporter": "python",
   "pygments_lexer": "ipython3",
   "version": "3.10.4"
  }
 },
 "nbformat": 4,
 "nbformat_minor": 5
}
