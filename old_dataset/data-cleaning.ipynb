{
 "cells": [
  {
   "cell_type": "code",
   "execution_count": 1,
   "id": "b33102a9-7912-4f1e-8420-266324a16b49",
   "metadata": {},
   "outputs": [],
   "source": [
    "import pandas as pd"
   ]
  },
  {
   "cell_type": "code",
   "execution_count": 2,
   "id": "d2c963b7-2a1c-4733-bb71-16be6e23467f",
   "metadata": {},
   "outputs": [],
   "source": [
    "import matplotlib.pyplot as plt\n",
    "import seaborn as SNS\n",
    "%matplotlib inline"
   ]
  },
  {
   "cell_type": "code",
   "execution_count": 3,
   "id": "d0f21a06-ba06-4ec3-81e3-c4e0c5a9997d",
   "metadata": {},
   "outputs": [],
   "source": [
    "data2010 = pd.read_excel('online_retail_II.xlsx' , sheet_name='Year 2009-2010')\n",
    "data2011 = pd.read_excel('online_retail_II.xlsx', sheet_name='Year 2010-2011')"
   ]
  },
  {
   "cell_type": "code",
   "execution_count": 4,
   "id": "a8d50b4a-310e-4bf1-89bc-d380714101d0",
   "metadata": {},
   "outputs": [
    {
     "data": {
      "text/html": [
       "<div>\n",
       "<style scoped>\n",
       "    .dataframe tbody tr th:only-of-type {\n",
       "        vertical-align: middle;\n",
       "    }\n",
       "\n",
       "    .dataframe tbody tr th {\n",
       "        vertical-align: top;\n",
       "    }\n",
       "\n",
       "    .dataframe thead th {\n",
       "        text-align: right;\n",
       "    }\n",
       "</style>\n",
       "<table border=\"1\" class=\"dataframe\">\n",
       "  <thead>\n",
       "    <tr style=\"text-align: right;\">\n",
       "      <th></th>\n",
       "      <th>Invoice</th>\n",
       "      <th>StockCode</th>\n",
       "      <th>Description</th>\n",
       "      <th>Quantity</th>\n",
       "      <th>InvoiceDate</th>\n",
       "      <th>Price</th>\n",
       "      <th>Customer ID</th>\n",
       "      <th>Country</th>\n",
       "    </tr>\n",
       "  </thead>\n",
       "  <tbody>\n",
       "    <tr>\n",
       "      <th>0</th>\n",
       "      <td>489434</td>\n",
       "      <td>85048</td>\n",
       "      <td>15CM CHRISTMAS GLASS BALL 20 LIGHTS</td>\n",
       "      <td>12</td>\n",
       "      <td>2009-12-01 07:45:00</td>\n",
       "      <td>6.95</td>\n",
       "      <td>13085.0</td>\n",
       "      <td>United Kingdom</td>\n",
       "    </tr>\n",
       "    <tr>\n",
       "      <th>1</th>\n",
       "      <td>489434</td>\n",
       "      <td>79323P</td>\n",
       "      <td>PINK CHERRY LIGHTS</td>\n",
       "      <td>12</td>\n",
       "      <td>2009-12-01 07:45:00</td>\n",
       "      <td>6.75</td>\n",
       "      <td>13085.0</td>\n",
       "      <td>United Kingdom</td>\n",
       "    </tr>\n",
       "    <tr>\n",
       "      <th>2</th>\n",
       "      <td>489434</td>\n",
       "      <td>79323W</td>\n",
       "      <td>WHITE CHERRY LIGHTS</td>\n",
       "      <td>12</td>\n",
       "      <td>2009-12-01 07:45:00</td>\n",
       "      <td>6.75</td>\n",
       "      <td>13085.0</td>\n",
       "      <td>United Kingdom</td>\n",
       "    </tr>\n",
       "    <tr>\n",
       "      <th>3</th>\n",
       "      <td>489434</td>\n",
       "      <td>22041</td>\n",
       "      <td>RECORD FRAME 7\" SINGLE SIZE</td>\n",
       "      <td>48</td>\n",
       "      <td>2009-12-01 07:45:00</td>\n",
       "      <td>2.10</td>\n",
       "      <td>13085.0</td>\n",
       "      <td>United Kingdom</td>\n",
       "    </tr>\n",
       "    <tr>\n",
       "      <th>4</th>\n",
       "      <td>489434</td>\n",
       "      <td>21232</td>\n",
       "      <td>STRAWBERRY CERAMIC TRINKET BOX</td>\n",
       "      <td>24</td>\n",
       "      <td>2009-12-01 07:45:00</td>\n",
       "      <td>1.25</td>\n",
       "      <td>13085.0</td>\n",
       "      <td>United Kingdom</td>\n",
       "    </tr>\n",
       "    <tr>\n",
       "      <th>...</th>\n",
       "      <td>...</td>\n",
       "      <td>...</td>\n",
       "      <td>...</td>\n",
       "      <td>...</td>\n",
       "      <td>...</td>\n",
       "      <td>...</td>\n",
       "      <td>...</td>\n",
       "      <td>...</td>\n",
       "    </tr>\n",
       "    <tr>\n",
       "      <th>541905</th>\n",
       "      <td>581587</td>\n",
       "      <td>22899</td>\n",
       "      <td>CHILDREN'S APRON DOLLY GIRL</td>\n",
       "      <td>6</td>\n",
       "      <td>2011-12-09 12:50:00</td>\n",
       "      <td>2.10</td>\n",
       "      <td>12680.0</td>\n",
       "      <td>France</td>\n",
       "    </tr>\n",
       "    <tr>\n",
       "      <th>541906</th>\n",
       "      <td>581587</td>\n",
       "      <td>23254</td>\n",
       "      <td>CHILDRENS CUTLERY DOLLY GIRL</td>\n",
       "      <td>4</td>\n",
       "      <td>2011-12-09 12:50:00</td>\n",
       "      <td>4.15</td>\n",
       "      <td>12680.0</td>\n",
       "      <td>France</td>\n",
       "    </tr>\n",
       "    <tr>\n",
       "      <th>541907</th>\n",
       "      <td>581587</td>\n",
       "      <td>23255</td>\n",
       "      <td>CHILDRENS CUTLERY CIRCUS PARADE</td>\n",
       "      <td>4</td>\n",
       "      <td>2011-12-09 12:50:00</td>\n",
       "      <td>4.15</td>\n",
       "      <td>12680.0</td>\n",
       "      <td>France</td>\n",
       "    </tr>\n",
       "    <tr>\n",
       "      <th>541908</th>\n",
       "      <td>581587</td>\n",
       "      <td>22138</td>\n",
       "      <td>BAKING SET 9 PIECE RETROSPOT</td>\n",
       "      <td>3</td>\n",
       "      <td>2011-12-09 12:50:00</td>\n",
       "      <td>4.95</td>\n",
       "      <td>12680.0</td>\n",
       "      <td>France</td>\n",
       "    </tr>\n",
       "    <tr>\n",
       "      <th>541909</th>\n",
       "      <td>581587</td>\n",
       "      <td>POST</td>\n",
       "      <td>POSTAGE</td>\n",
       "      <td>1</td>\n",
       "      <td>2011-12-09 12:50:00</td>\n",
       "      <td>18.00</td>\n",
       "      <td>12680.0</td>\n",
       "      <td>France</td>\n",
       "    </tr>\n",
       "  </tbody>\n",
       "</table>\n",
       "<p>1033036 rows × 8 columns</p>\n",
       "</div>"
      ],
      "text/plain": [
       "       Invoice StockCode                          Description  Quantity  \\\n",
       "0       489434     85048  15CM CHRISTMAS GLASS BALL 20 LIGHTS        12   \n",
       "1       489434    79323P                   PINK CHERRY LIGHTS        12   \n",
       "2       489434    79323W                  WHITE CHERRY LIGHTS        12   \n",
       "3       489434     22041         RECORD FRAME 7\" SINGLE SIZE         48   \n",
       "4       489434     21232       STRAWBERRY CERAMIC TRINKET BOX        24   \n",
       "...        ...       ...                                  ...       ...   \n",
       "541905  581587     22899         CHILDREN'S APRON DOLLY GIRL          6   \n",
       "541906  581587     23254        CHILDRENS CUTLERY DOLLY GIRL          4   \n",
       "541907  581587     23255      CHILDRENS CUTLERY CIRCUS PARADE         4   \n",
       "541908  581587     22138        BAKING SET 9 PIECE RETROSPOT          3   \n",
       "541909  581587      POST                              POSTAGE         1   \n",
       "\n",
       "               InvoiceDate  Price  Customer ID         Country  \n",
       "0      2009-12-01 07:45:00   6.95      13085.0  United Kingdom  \n",
       "1      2009-12-01 07:45:00   6.75      13085.0  United Kingdom  \n",
       "2      2009-12-01 07:45:00   6.75      13085.0  United Kingdom  \n",
       "3      2009-12-01 07:45:00   2.10      13085.0  United Kingdom  \n",
       "4      2009-12-01 07:45:00   1.25      13085.0  United Kingdom  \n",
       "...                    ...    ...          ...             ...  \n",
       "541905 2011-12-09 12:50:00   2.10      12680.0          France  \n",
       "541906 2011-12-09 12:50:00   4.15      12680.0          France  \n",
       "541907 2011-12-09 12:50:00   4.15      12680.0          France  \n",
       "541908 2011-12-09 12:50:00   4.95      12680.0          France  \n",
       "541909 2011-12-09 12:50:00  18.00      12680.0          France  \n",
       "\n",
       "[1033036 rows x 8 columns]"
      ]
     },
     "execution_count": 4,
     "metadata": {},
     "output_type": "execute_result"
    }
   ],
   "source": [
    "#merge dataframes, drop dupes\n",
    "datasales = pd.concat([data2010, data2011]).drop_duplicates()\n",
    "datasales"
   ]
  },
  {
   "cell_type": "code",
   "execution_count": 28,
   "id": "e5322775-c5c0-49b4-b06b-eb73744d7932",
   "metadata": {},
   "outputs": [
    {
     "data": {
      "text/plain": [
       "United Kingdom          923247\n",
       "EIRE                     16913\n",
       "Germany                  15787\n",
       "France                   13160\n",
       "Netherlands               4981\n",
       "Spain                     3560\n",
       "Switzerland               3068\n",
       "Belgium                   2911\n",
       "Portugal                  2409\n",
       "Australia                 1783\n",
       "Channel Islands           1544\n",
       "Italy                     1411\n",
       "Sweden                    1285\n",
       "Norway                    1263\n",
       "Cyprus                    1100\n",
       "Finland                    985\n",
       "Austria                    888\n",
       "Denmark                    756\n",
       "Unspecified                748\n",
       "Greece                     653\n",
       "Poland                     498\n",
       "Japan                      468\n",
       "United Arab Emirates       462\n",
       "USA                        404\n",
       "Israel                     366\n",
       "Hong Kong                  347\n",
       "Singapore                  332\n",
       "Malta                      277\n",
       "Canada                     227\n",
       "Iceland                    222\n",
       "RSA                        166\n",
       "Lithuania                  154\n",
       "Bahrain                    124\n",
       "Brazil                      94\n",
       "Thailand                    76\n",
       "European Community          57\n",
       "Lebanon                     57\n",
       "West Indies                 54\n",
       "Korea                       53\n",
       "Bermuda                     34\n",
       "Nigeria                     29\n",
       "Czech Republic              24\n",
       "Saudi Arabia                 9\n",
       "Name: Country, dtype: int64"
      ]
     },
     "execution_count": 28,
     "metadata": {},
     "output_type": "execute_result"
    }
   ],
   "source": [
    "datasales['Country'].value_counts()"
   ]
  },
  {
   "cell_type": "code",
   "execution_count": 5,
   "id": "27a13c6c-a87b-4a26-b4dc-a7b0aa89839b",
   "metadata": {},
   "outputs": [
    {
     "data": {
      "text/html": [
       "<div>\n",
       "<style scoped>\n",
       "    .dataframe tbody tr th:only-of-type {\n",
       "        vertical-align: middle;\n",
       "    }\n",
       "\n",
       "    .dataframe tbody tr th {\n",
       "        vertical-align: top;\n",
       "    }\n",
       "\n",
       "    .dataframe thead th {\n",
       "        text-align: right;\n",
       "    }\n",
       "</style>\n",
       "<table border=\"1\" class=\"dataframe\">\n",
       "  <thead>\n",
       "    <tr style=\"text-align: right;\">\n",
       "      <th></th>\n",
       "      <th>Invoice</th>\n",
       "      <th>StockCode</th>\n",
       "      <th>Description</th>\n",
       "      <th>Quantity</th>\n",
       "      <th>InvoiceDate</th>\n",
       "      <th>Price</th>\n",
       "      <th>Customer ID</th>\n",
       "      <th>Country</th>\n",
       "      <th>Sales</th>\n",
       "      <th>DayofWeek</th>\n",
       "    </tr>\n",
       "  </thead>\n",
       "  <tbody>\n",
       "    <tr>\n",
       "      <th>0</th>\n",
       "      <td>489434</td>\n",
       "      <td>85048</td>\n",
       "      <td>15CM CHRISTMAS GLASS BALL 20 LIGHTS</td>\n",
       "      <td>12</td>\n",
       "      <td>2009-12-01 07:45:00</td>\n",
       "      <td>6.95</td>\n",
       "      <td>13085.0</td>\n",
       "      <td>United Kingdom</td>\n",
       "      <td>83.40</td>\n",
       "      <td>1</td>\n",
       "    </tr>\n",
       "    <tr>\n",
       "      <th>1</th>\n",
       "      <td>489434</td>\n",
       "      <td>79323P</td>\n",
       "      <td>PINK CHERRY LIGHTS</td>\n",
       "      <td>12</td>\n",
       "      <td>2009-12-01 07:45:00</td>\n",
       "      <td>6.75</td>\n",
       "      <td>13085.0</td>\n",
       "      <td>United Kingdom</td>\n",
       "      <td>81.00</td>\n",
       "      <td>1</td>\n",
       "    </tr>\n",
       "    <tr>\n",
       "      <th>2</th>\n",
       "      <td>489434</td>\n",
       "      <td>79323W</td>\n",
       "      <td>WHITE CHERRY LIGHTS</td>\n",
       "      <td>12</td>\n",
       "      <td>2009-12-01 07:45:00</td>\n",
       "      <td>6.75</td>\n",
       "      <td>13085.0</td>\n",
       "      <td>United Kingdom</td>\n",
       "      <td>81.00</td>\n",
       "      <td>1</td>\n",
       "    </tr>\n",
       "    <tr>\n",
       "      <th>3</th>\n",
       "      <td>489434</td>\n",
       "      <td>22041</td>\n",
       "      <td>RECORD FRAME 7\" SINGLE SIZE</td>\n",
       "      <td>48</td>\n",
       "      <td>2009-12-01 07:45:00</td>\n",
       "      <td>2.10</td>\n",
       "      <td>13085.0</td>\n",
       "      <td>United Kingdom</td>\n",
       "      <td>100.80</td>\n",
       "      <td>1</td>\n",
       "    </tr>\n",
       "    <tr>\n",
       "      <th>4</th>\n",
       "      <td>489434</td>\n",
       "      <td>21232</td>\n",
       "      <td>STRAWBERRY CERAMIC TRINKET BOX</td>\n",
       "      <td>24</td>\n",
       "      <td>2009-12-01 07:45:00</td>\n",
       "      <td>1.25</td>\n",
       "      <td>13085.0</td>\n",
       "      <td>United Kingdom</td>\n",
       "      <td>30.00</td>\n",
       "      <td>1</td>\n",
       "    </tr>\n",
       "    <tr>\n",
       "      <th>...</th>\n",
       "      <td>...</td>\n",
       "      <td>...</td>\n",
       "      <td>...</td>\n",
       "      <td>...</td>\n",
       "      <td>...</td>\n",
       "      <td>...</td>\n",
       "      <td>...</td>\n",
       "      <td>...</td>\n",
       "      <td>...</td>\n",
       "      <td>...</td>\n",
       "    </tr>\n",
       "    <tr>\n",
       "      <th>1002981</th>\n",
       "      <td>581587</td>\n",
       "      <td>22613</td>\n",
       "      <td>PACK OF 20 SPACEBOY NAPKINS</td>\n",
       "      <td>12</td>\n",
       "      <td>2011-12-09 12:50:00</td>\n",
       "      <td>0.85</td>\n",
       "      <td>12680.0</td>\n",
       "      <td>France</td>\n",
       "      <td>10.20</td>\n",
       "      <td>4</td>\n",
       "    </tr>\n",
       "    <tr>\n",
       "      <th>1002982</th>\n",
       "      <td>581587</td>\n",
       "      <td>22899</td>\n",
       "      <td>CHILDREN'S APRON DOLLY GIRL</td>\n",
       "      <td>6</td>\n",
       "      <td>2011-12-09 12:50:00</td>\n",
       "      <td>2.10</td>\n",
       "      <td>12680.0</td>\n",
       "      <td>France</td>\n",
       "      <td>12.60</td>\n",
       "      <td>4</td>\n",
       "    </tr>\n",
       "    <tr>\n",
       "      <th>1002983</th>\n",
       "      <td>581587</td>\n",
       "      <td>23254</td>\n",
       "      <td>CHILDRENS CUTLERY DOLLY GIRL</td>\n",
       "      <td>4</td>\n",
       "      <td>2011-12-09 12:50:00</td>\n",
       "      <td>4.15</td>\n",
       "      <td>12680.0</td>\n",
       "      <td>France</td>\n",
       "      <td>16.60</td>\n",
       "      <td>4</td>\n",
       "    </tr>\n",
       "    <tr>\n",
       "      <th>1002984</th>\n",
       "      <td>581587</td>\n",
       "      <td>23255</td>\n",
       "      <td>CHILDRENS CUTLERY CIRCUS PARADE</td>\n",
       "      <td>4</td>\n",
       "      <td>2011-12-09 12:50:00</td>\n",
       "      <td>4.15</td>\n",
       "      <td>12680.0</td>\n",
       "      <td>France</td>\n",
       "      <td>16.60</td>\n",
       "      <td>4</td>\n",
       "    </tr>\n",
       "    <tr>\n",
       "      <th>1002985</th>\n",
       "      <td>581587</td>\n",
       "      <td>22138</td>\n",
       "      <td>BAKING SET 9 PIECE RETROSPOT</td>\n",
       "      <td>3</td>\n",
       "      <td>2011-12-09 12:50:00</td>\n",
       "      <td>4.95</td>\n",
       "      <td>12680.0</td>\n",
       "      <td>France</td>\n",
       "      <td>14.85</td>\n",
       "      <td>4</td>\n",
       "    </tr>\n",
       "  </tbody>\n",
       "</table>\n",
       "<p>1002986 rows × 10 columns</p>\n",
       "</div>"
      ],
      "text/plain": [
       "        Invoice StockCode                          Description  Quantity  \\\n",
       "0        489434     85048  15CM CHRISTMAS GLASS BALL 20 LIGHTS        12   \n",
       "1        489434    79323P                   PINK CHERRY LIGHTS        12   \n",
       "2        489434    79323W                  WHITE CHERRY LIGHTS        12   \n",
       "3        489434     22041         RECORD FRAME 7\" SINGLE SIZE         48   \n",
       "4        489434     21232       STRAWBERRY CERAMIC TRINKET BOX        24   \n",
       "...         ...       ...                                  ...       ...   \n",
       "1002981  581587     22613          PACK OF 20 SPACEBOY NAPKINS        12   \n",
       "1002982  581587     22899         CHILDREN'S APRON DOLLY GIRL          6   \n",
       "1002983  581587     23254        CHILDRENS CUTLERY DOLLY GIRL          4   \n",
       "1002984  581587     23255      CHILDRENS CUTLERY CIRCUS PARADE         4   \n",
       "1002985  581587     22138        BAKING SET 9 PIECE RETROSPOT          3   \n",
       "\n",
       "                InvoiceDate  Price  Customer ID         Country   Sales  \\\n",
       "0       2009-12-01 07:45:00   6.95      13085.0  United Kingdom   83.40   \n",
       "1       2009-12-01 07:45:00   6.75      13085.0  United Kingdom   81.00   \n",
       "2       2009-12-01 07:45:00   6.75      13085.0  United Kingdom   81.00   \n",
       "3       2009-12-01 07:45:00   2.10      13085.0  United Kingdom  100.80   \n",
       "4       2009-12-01 07:45:00   1.25      13085.0  United Kingdom   30.00   \n",
       "...                     ...    ...          ...             ...     ...   \n",
       "1002981 2011-12-09 12:50:00   0.85      12680.0          France   10.20   \n",
       "1002982 2011-12-09 12:50:00   2.10      12680.0          France   12.60   \n",
       "1002983 2011-12-09 12:50:00   4.15      12680.0          France   16.60   \n",
       "1002984 2011-12-09 12:50:00   4.15      12680.0          France   16.60   \n",
       "1002985 2011-12-09 12:50:00   4.95      12680.0          France   14.85   \n",
       "\n",
       "         DayofWeek  \n",
       "0                1  \n",
       "1                1  \n",
       "2                1  \n",
       "3                1  \n",
       "4                1  \n",
       "...            ...  \n",
       "1002981          4  \n",
       "1002982          4  \n",
       "1002983          4  \n",
       "1002984          4  \n",
       "1002985          4  \n",
       "\n",
       "[1002986 rows x 10 columns]"
      ]
     },
     "execution_count": 5,
     "metadata": {},
     "output_type": "execute_result"
    }
   ],
   "source": [
    "#add sales\n",
    "datasales['Sales'] = datasales['Quantity'] * datasales['Price'] \n",
    "#drop single saturday\n",
    "datasales['DayofWeek'] = datasales['InvoiceDate'].dt.dayofweek\n",
    "datasales = datasales[datasales.DayofWeek !=  5]\n",
    "#drop adjustments, fees, postage, gifts, bad debts, overhead\n",
    "droplst = ['D','M','m', 'BANK CHARGES', 'AMAZONFEE', 'CRUK', 'POST', 'dot', 'C2','PAD','B','S', 'GIFT', 'C3', 'TEST002', 'TEST001', 'DOT', 'ADJUST', 'ADJUST2', 'PADS']\n",
    "datasales = datasales[datasales.StockCode.isin(droplst) == False]\n",
    "#drop test customer\n",
    "testcust = [12346, 16454, 16446, 14103]\n",
    "datasales = datasales[datasales['Customer ID'] != 12346]\n",
    "datasales = datasales[datasales['Customer ID'] != 16454]\n",
    "datasales = datasales[datasales['Customer ID'] != 16446]\n",
    "datasales = datasales[datasales['Customer ID'] != 14103]\n",
    "\n",
    "\n",
    "#drop returns and inventory adjustments (0 and negative vlues)\n",
    "datasales = datasales[datasales['Sales'] > 0]\n",
    "#drop outlier mistake order\n",
    "datasales = datasales[datasales['Invoice'] != 556444]\n",
    "#reset index\n",
    "datasales = datasales.reset_index(drop = True)\n",
    "datasales"
   ]
  },
  {
   "cell_type": "code",
   "execution_count": 50,
   "id": "3a9fd6ee-20b3-479e-a42c-1bdfe7a599b8",
   "metadata": {},
   "outputs": [
    {
     "data": {
      "text/html": [
       "<div>\n",
       "<style scoped>\n",
       "    .dataframe tbody tr th:only-of-type {\n",
       "        vertical-align: middle;\n",
       "    }\n",
       "\n",
       "    .dataframe tbody tr th {\n",
       "        vertical-align: top;\n",
       "    }\n",
       "\n",
       "    .dataframe thead th {\n",
       "        text-align: right;\n",
       "    }\n",
       "</style>\n",
       "<table border=\"1\" class=\"dataframe\">\n",
       "  <thead>\n",
       "    <tr style=\"text-align: right;\">\n",
       "      <th></th>\n",
       "      <th>Quantity</th>\n",
       "      <th>Price</th>\n",
       "      <th>Customer ID</th>\n",
       "      <th>Sales</th>\n",
       "      <th>DayofWeek</th>\n",
       "    </tr>\n",
       "  </thead>\n",
       "  <tbody>\n",
       "    <tr>\n",
       "      <th>count</th>\n",
       "      <td>34544.000000</td>\n",
       "      <td>34544.000000</td>\n",
       "      <td>21860.000000</td>\n",
       "      <td>34544.000000</td>\n",
       "      <td>34544.000000</td>\n",
       "    </tr>\n",
       "    <tr>\n",
       "      <th>mean</th>\n",
       "      <td>1.179771</td>\n",
       "      <td>0.669245</td>\n",
       "      <td>15807.572781</td>\n",
       "      <td>0.726458</td>\n",
       "      <td>2.544031</td>\n",
       "    </tr>\n",
       "    <tr>\n",
       "      <th>std</th>\n",
       "      <td>0.585053</td>\n",
       "      <td>0.216079</td>\n",
       "      <td>1609.437932</td>\n",
       "      <td>0.182260</td>\n",
       "      <td>1.980151</td>\n",
       "    </tr>\n",
       "    <tr>\n",
       "      <th>min</th>\n",
       "      <td>1.000000</td>\n",
       "      <td>0.060000</td>\n",
       "      <td>12356.000000</td>\n",
       "      <td>0.060000</td>\n",
       "      <td>0.000000</td>\n",
       "    </tr>\n",
       "    <tr>\n",
       "      <th>25%</th>\n",
       "      <td>1.000000</td>\n",
       "      <td>0.420000</td>\n",
       "      <td>14583.000000</td>\n",
       "      <td>0.580000</td>\n",
       "      <td>1.000000</td>\n",
       "    </tr>\n",
       "    <tr>\n",
       "      <th>50%</th>\n",
       "      <td>1.000000</td>\n",
       "      <td>0.830000</td>\n",
       "      <td>15917.000000</td>\n",
       "      <td>0.830000</td>\n",
       "      <td>2.000000</td>\n",
       "    </tr>\n",
       "    <tr>\n",
       "      <th>75%</th>\n",
       "      <td>1.000000</td>\n",
       "      <td>0.850000</td>\n",
       "      <td>17265.000000</td>\n",
       "      <td>0.850000</td>\n",
       "      <td>4.000000</td>\n",
       "    </tr>\n",
       "    <tr>\n",
       "      <th>max</th>\n",
       "      <td>15.000000</td>\n",
       "      <td>0.950000</td>\n",
       "      <td>18283.000000</td>\n",
       "      <td>0.990000</td>\n",
       "      <td>6.000000</td>\n",
       "    </tr>\n",
       "  </tbody>\n",
       "</table>\n",
       "</div>"
      ],
      "text/plain": [
       "           Quantity         Price   Customer ID         Sales     DayofWeek\n",
       "count  34544.000000  34544.000000  21860.000000  34544.000000  34544.000000\n",
       "mean       1.179771      0.669245  15807.572781      0.726458      2.544031\n",
       "std        0.585053      0.216079   1609.437932      0.182260      1.980151\n",
       "min        1.000000      0.060000  12356.000000      0.060000      0.000000\n",
       "25%        1.000000      0.420000  14583.000000      0.580000      1.000000\n",
       "50%        1.000000      0.830000  15917.000000      0.830000      2.000000\n",
       "75%        1.000000      0.850000  17265.000000      0.850000      4.000000\n",
       "max       15.000000      0.950000  18283.000000      0.990000      6.000000"
      ]
     },
     "execution_count": 50,
     "metadata": {},
     "output_type": "execute_result"
    }
   ],
   "source": [
    "datasales.describe()"
   ]
  },
  {
   "cell_type": "code",
   "execution_count": 26,
   "id": "3dd2c385-e9d5-43c9-b092-361eac777815",
   "metadata": {},
   "outputs": [
    {
     "data": {
      "text/html": [
       "<div>\n",
       "<style scoped>\n",
       "    .dataframe tbody tr th:only-of-type {\n",
       "        vertical-align: middle;\n",
       "    }\n",
       "\n",
       "    .dataframe tbody tr th {\n",
       "        vertical-align: top;\n",
       "    }\n",
       "\n",
       "    .dataframe thead th {\n",
       "        text-align: right;\n",
       "    }\n",
       "</style>\n",
       "<table border=\"1\" class=\"dataframe\">\n",
       "  <thead>\n",
       "    <tr style=\"text-align: right;\">\n",
       "      <th></th>\n",
       "      <th>Invoice</th>\n",
       "      <th>StockCode</th>\n",
       "      <th>Description</th>\n",
       "      <th>Quantity</th>\n",
       "      <th>InvoiceDate</th>\n",
       "      <th>Price</th>\n",
       "      <th>Customer ID</th>\n",
       "      <th>Country</th>\n",
       "      <th>Sales</th>\n",
       "      <th>DayofWeek</th>\n",
       "      <th>Day</th>\n",
       "      <th>Week</th>\n",
       "      <th>Month</th>\n",
       "      <th>Year</th>\n",
       "      <th>DayofYear</th>\n",
       "    </tr>\n",
       "  </thead>\n",
       "  <tbody>\n",
       "    <tr>\n",
       "      <th>0</th>\n",
       "      <td>489434</td>\n",
       "      <td>85048</td>\n",
       "      <td>15CM CHRISTMAS GLASS BALL 20 LIGHTS</td>\n",
       "      <td>12</td>\n",
       "      <td>2009-12-01 07:45:00</td>\n",
       "      <td>6.95</td>\n",
       "      <td>13085.0</td>\n",
       "      <td>United Kingdom</td>\n",
       "      <td>83.40</td>\n",
       "      <td>1</td>\n",
       "      <td>1</td>\n",
       "      <td>49</td>\n",
       "      <td>12</td>\n",
       "      <td>2009</td>\n",
       "      <td>335</td>\n",
       "    </tr>\n",
       "    <tr>\n",
       "      <th>1</th>\n",
       "      <td>489434</td>\n",
       "      <td>79323P</td>\n",
       "      <td>PINK CHERRY LIGHTS</td>\n",
       "      <td>12</td>\n",
       "      <td>2009-12-01 07:45:00</td>\n",
       "      <td>6.75</td>\n",
       "      <td>13085.0</td>\n",
       "      <td>United Kingdom</td>\n",
       "      <td>81.00</td>\n",
       "      <td>1</td>\n",
       "      <td>1</td>\n",
       "      <td>49</td>\n",
       "      <td>12</td>\n",
       "      <td>2009</td>\n",
       "      <td>335</td>\n",
       "    </tr>\n",
       "    <tr>\n",
       "      <th>2</th>\n",
       "      <td>489434</td>\n",
       "      <td>79323W</td>\n",
       "      <td>WHITE CHERRY LIGHTS</td>\n",
       "      <td>12</td>\n",
       "      <td>2009-12-01 07:45:00</td>\n",
       "      <td>6.75</td>\n",
       "      <td>13085.0</td>\n",
       "      <td>United Kingdom</td>\n",
       "      <td>81.00</td>\n",
       "      <td>1</td>\n",
       "      <td>1</td>\n",
       "      <td>49</td>\n",
       "      <td>12</td>\n",
       "      <td>2009</td>\n",
       "      <td>335</td>\n",
       "    </tr>\n",
       "    <tr>\n",
       "      <th>3</th>\n",
       "      <td>489434</td>\n",
       "      <td>22041</td>\n",
       "      <td>RECORD FRAME 7\" SINGLE SIZE</td>\n",
       "      <td>48</td>\n",
       "      <td>2009-12-01 07:45:00</td>\n",
       "      <td>2.10</td>\n",
       "      <td>13085.0</td>\n",
       "      <td>United Kingdom</td>\n",
       "      <td>100.80</td>\n",
       "      <td>1</td>\n",
       "      <td>1</td>\n",
       "      <td>49</td>\n",
       "      <td>12</td>\n",
       "      <td>2009</td>\n",
       "      <td>335</td>\n",
       "    </tr>\n",
       "    <tr>\n",
       "      <th>4</th>\n",
       "      <td>489434</td>\n",
       "      <td>21232</td>\n",
       "      <td>STRAWBERRY CERAMIC TRINKET BOX</td>\n",
       "      <td>24</td>\n",
       "      <td>2009-12-01 07:45:00</td>\n",
       "      <td>1.25</td>\n",
       "      <td>13085.0</td>\n",
       "      <td>United Kingdom</td>\n",
       "      <td>30.00</td>\n",
       "      <td>1</td>\n",
       "      <td>1</td>\n",
       "      <td>49</td>\n",
       "      <td>12</td>\n",
       "      <td>2009</td>\n",
       "      <td>335</td>\n",
       "    </tr>\n",
       "    <tr>\n",
       "      <th>...</th>\n",
       "      <td>...</td>\n",
       "      <td>...</td>\n",
       "      <td>...</td>\n",
       "      <td>...</td>\n",
       "      <td>...</td>\n",
       "      <td>...</td>\n",
       "      <td>...</td>\n",
       "      <td>...</td>\n",
       "      <td>...</td>\n",
       "      <td>...</td>\n",
       "      <td>...</td>\n",
       "      <td>...</td>\n",
       "      <td>...</td>\n",
       "      <td>...</td>\n",
       "      <td>...</td>\n",
       "    </tr>\n",
       "    <tr>\n",
       "      <th>1002981</th>\n",
       "      <td>581587</td>\n",
       "      <td>22613</td>\n",
       "      <td>PACK OF 20 SPACEBOY NAPKINS</td>\n",
       "      <td>12</td>\n",
       "      <td>2011-12-09 12:50:00</td>\n",
       "      <td>0.85</td>\n",
       "      <td>12680.0</td>\n",
       "      <td>France</td>\n",
       "      <td>10.20</td>\n",
       "      <td>4</td>\n",
       "      <td>9</td>\n",
       "      <td>49</td>\n",
       "      <td>12</td>\n",
       "      <td>2011</td>\n",
       "      <td>343</td>\n",
       "    </tr>\n",
       "    <tr>\n",
       "      <th>1002982</th>\n",
       "      <td>581587</td>\n",
       "      <td>22899</td>\n",
       "      <td>CHILDREN'S APRON DOLLY GIRL</td>\n",
       "      <td>6</td>\n",
       "      <td>2011-12-09 12:50:00</td>\n",
       "      <td>2.10</td>\n",
       "      <td>12680.0</td>\n",
       "      <td>France</td>\n",
       "      <td>12.60</td>\n",
       "      <td>4</td>\n",
       "      <td>9</td>\n",
       "      <td>49</td>\n",
       "      <td>12</td>\n",
       "      <td>2011</td>\n",
       "      <td>343</td>\n",
       "    </tr>\n",
       "    <tr>\n",
       "      <th>1002983</th>\n",
       "      <td>581587</td>\n",
       "      <td>23254</td>\n",
       "      <td>CHILDRENS CUTLERY DOLLY GIRL</td>\n",
       "      <td>4</td>\n",
       "      <td>2011-12-09 12:50:00</td>\n",
       "      <td>4.15</td>\n",
       "      <td>12680.0</td>\n",
       "      <td>France</td>\n",
       "      <td>16.60</td>\n",
       "      <td>4</td>\n",
       "      <td>9</td>\n",
       "      <td>49</td>\n",
       "      <td>12</td>\n",
       "      <td>2011</td>\n",
       "      <td>343</td>\n",
       "    </tr>\n",
       "    <tr>\n",
       "      <th>1002984</th>\n",
       "      <td>581587</td>\n",
       "      <td>23255</td>\n",
       "      <td>CHILDRENS CUTLERY CIRCUS PARADE</td>\n",
       "      <td>4</td>\n",
       "      <td>2011-12-09 12:50:00</td>\n",
       "      <td>4.15</td>\n",
       "      <td>12680.0</td>\n",
       "      <td>France</td>\n",
       "      <td>16.60</td>\n",
       "      <td>4</td>\n",
       "      <td>9</td>\n",
       "      <td>49</td>\n",
       "      <td>12</td>\n",
       "      <td>2011</td>\n",
       "      <td>343</td>\n",
       "    </tr>\n",
       "    <tr>\n",
       "      <th>1002985</th>\n",
       "      <td>581587</td>\n",
       "      <td>22138</td>\n",
       "      <td>BAKING SET 9 PIECE RETROSPOT</td>\n",
       "      <td>3</td>\n",
       "      <td>2011-12-09 12:50:00</td>\n",
       "      <td>4.95</td>\n",
       "      <td>12680.0</td>\n",
       "      <td>France</td>\n",
       "      <td>14.85</td>\n",
       "      <td>4</td>\n",
       "      <td>9</td>\n",
       "      <td>49</td>\n",
       "      <td>12</td>\n",
       "      <td>2011</td>\n",
       "      <td>343</td>\n",
       "    </tr>\n",
       "  </tbody>\n",
       "</table>\n",
       "<p>1002986 rows × 15 columns</p>\n",
       "</div>"
      ],
      "text/plain": [
       "        Invoice StockCode                          Description  Quantity  \\\n",
       "0        489434     85048  15CM CHRISTMAS GLASS BALL 20 LIGHTS        12   \n",
       "1        489434    79323P                   PINK CHERRY LIGHTS        12   \n",
       "2        489434    79323W                  WHITE CHERRY LIGHTS        12   \n",
       "3        489434     22041         RECORD FRAME 7\" SINGLE SIZE         48   \n",
       "4        489434     21232       STRAWBERRY CERAMIC TRINKET BOX        24   \n",
       "...         ...       ...                                  ...       ...   \n",
       "1002981  581587     22613          PACK OF 20 SPACEBOY NAPKINS        12   \n",
       "1002982  581587     22899         CHILDREN'S APRON DOLLY GIRL          6   \n",
       "1002983  581587     23254        CHILDRENS CUTLERY DOLLY GIRL          4   \n",
       "1002984  581587     23255      CHILDRENS CUTLERY CIRCUS PARADE         4   \n",
       "1002985  581587     22138        BAKING SET 9 PIECE RETROSPOT          3   \n",
       "\n",
       "                InvoiceDate  Price  Customer ID         Country   Sales  \\\n",
       "0       2009-12-01 07:45:00   6.95      13085.0  United Kingdom   83.40   \n",
       "1       2009-12-01 07:45:00   6.75      13085.0  United Kingdom   81.00   \n",
       "2       2009-12-01 07:45:00   6.75      13085.0  United Kingdom   81.00   \n",
       "3       2009-12-01 07:45:00   2.10      13085.0  United Kingdom  100.80   \n",
       "4       2009-12-01 07:45:00   1.25      13085.0  United Kingdom   30.00   \n",
       "...                     ...    ...          ...             ...     ...   \n",
       "1002981 2011-12-09 12:50:00   0.85      12680.0          France   10.20   \n",
       "1002982 2011-12-09 12:50:00   2.10      12680.0          France   12.60   \n",
       "1002983 2011-12-09 12:50:00   4.15      12680.0          France   16.60   \n",
       "1002984 2011-12-09 12:50:00   4.15      12680.0          France   16.60   \n",
       "1002985 2011-12-09 12:50:00   4.95      12680.0          France   14.85   \n",
       "\n",
       "         DayofWeek  Day  Week  Month  Year  DayofYear  \n",
       "0                1    1    49     12  2009        335  \n",
       "1                1    1    49     12  2009        335  \n",
       "2                1    1    49     12  2009        335  \n",
       "3                1    1    49     12  2009        335  \n",
       "4                1    1    49     12  2009        335  \n",
       "...            ...  ...   ...    ...   ...        ...  \n",
       "1002981          4    9    49     12  2011        343  \n",
       "1002982          4    9    49     12  2011        343  \n",
       "1002983          4    9    49     12  2011        343  \n",
       "1002984          4    9    49     12  2011        343  \n",
       "1002985          4    9    49     12  2011        343  \n",
       "\n",
       "[1002986 rows x 15 columns]"
      ]
     },
     "execution_count": 26,
     "metadata": {},
     "output_type": "execute_result"
    }
   ],
   "source": [
    "datasales"
   ]
  },
  {
   "cell_type": "code",
   "execution_count": 6,
   "id": "02737a42-b657-474d-b4cb-3e17845165a9",
   "metadata": {},
   "outputs": [
    {
     "name": "stderr",
     "output_type": "stream",
     "text": [
      "C:\\Users\\Alex\\AppData\\Local\\Temp\\ipykernel_216984\\3127113122.py:2: FutureWarning: Series.dt.weekofyear and Series.dt.week have been deprecated. Please use Series.dt.isocalendar().week instead.\n",
      "  datasales['Week'] = datasales['InvoiceDate'].dt.week\n"
     ]
    }
   ],
   "source": [
    "datasales['Day'] = datasales['InvoiceDate'].dt.day\n",
    "datasales['Week'] = datasales['InvoiceDate'].dt.week\n",
    "datasales['Month'] = datasales['InvoiceDate'].dt.month\n",
    "datasales['Year'] = datasales['InvoiceDate'].dt.year\n",
    "datasales['DayofYear'] = datasales['InvoiceDate'].dt.dayofyear"
   ]
  },
  {
   "cell_type": "code",
   "execution_count": 30,
   "id": "9793572b-e80b-42b5-8bc7-78525ea4ea09",
   "metadata": {},
   "outputs": [
    {
     "data": {
      "text/plain": [
       "Invoice        False\n",
       "StockCode      False\n",
       "Description    False\n",
       "Quantity       False\n",
       "InvoiceDate    False\n",
       "Price          False\n",
       "Customer ID     True\n",
       "Country        False\n",
       "Sales          False\n",
       "DayofWeek      False\n",
       "Day            False\n",
       "Week           False\n",
       "Month          False\n",
       "Year           False\n",
       "DayofYear      False\n",
       "dtype: bool"
      ]
     },
     "execution_count": 30,
     "metadata": {},
     "output_type": "execute_result"
    }
   ],
   "source": [
    "datasales.isnull().any()"
   ]
  },
  {
   "cell_type": "code",
   "execution_count": null,
   "id": "f59f7ca8-7a66-4949-b052-1b3ffd2a52be",
   "metadata": {},
   "outputs": [],
   "source": [
    "#datasales = datasales.dropna()\n",
    " "
   ]
  },
  {
   "cell_type": "code",
   "execution_count": 7,
   "id": "04fc4d97-a7d4-4cd9-8820-1be22e01e7ba",
   "metadata": {},
   "outputs": [],
   "source": [
    "dailysales = datasales.groupby(['Year', 'DayofYear'])['Sales'].sum()\n",
    "weeklysales = datasales.groupby(['Year', 'Week'])['Sales'].sum()\n",
    "monthlysales = datasales.groupby(['Year', 'Month'])['Sales'].sum()\n",
    "mdate_list=[]\n",
    "for date in monthlysales.index.to_list():\n",
    "    date_str = str(date[0])+\" \" +str(date[1])\n",
    "    mdate_list.append(date_str)\n",
    "wdate_list=[]\n",
    "for date in weeklysales.index.to_list():\n",
    "    date_str = str(date[0])+\" \" +str(date[1])\n",
    "    wdate_list.append(date_str)\n",
    "ddate_list=[]\n",
    "for date in dailysales.index.to_list():\n",
    "    date_str = str(date[0])+\" \" +str(date[1])\n",
    "    ddate_list.append(date_str)"
   ]
  },
  {
   "cell_type": "code",
   "execution_count": 8,
   "id": "f6f9606b-12df-446c-8645-1d7aabf88b2b",
   "metadata": {},
   "outputs": [
    {
     "data": {
      "text/plain": [
       "<BarContainer object of 25 artists>"
      ]
     },
     "execution_count": 8,
     "metadata": {},
     "output_type": "execute_result"
    },
    {
     "data": {
      "image/png": "[encoded data removed]",
      "text/plain": [
       "<Figure size 432x288 with 1 Axes>"
      ]
     },
     "metadata": {
      "needs_background": "light"
     },
     "output_type": "display_data"
    }
   ],
   "source": [
    "plt.bar(mdate_list,monthlysales)"
   ]
  },
  {
   "cell_type": "code",
   "execution_count": 9,
   "id": "87ebb2b2-3313-47cd-a529-48c43032a4b3",
   "metadata": {},
   "outputs": [
    {
     "data": {
      "text/plain": [
       "<BarContainer object of 104 artists>"
      ]
     },
     "execution_count": 9,
     "metadata": {},
     "output_type": "execute_result"
    },
    {
     "data": {
      "image/png": "[encoded data removed]",
      "text/plain": [
       "<Figure size 432x288 with 1 Axes>"
      ]
     },
     "metadata": {
      "needs_background": "light"
     },
     "output_type": "display_data"
    }
   ],
   "source": [
    "plt.bar(wdate_list,weeklysales)"
   ]
  },
  {
   "cell_type": "code",
   "execution_count": 10,
   "id": "9b7f9f01-b286-4845-851b-2abe5662cbbb",
   "metadata": {},
   "outputs": [
    {
     "data": {
      "text/plain": [
       "<BarContainer object of 603 artists>"
      ]
     },
     "execution_count": 10,
     "metadata": {},
     "output_type": "execute_result"
    },
    {
     "data": {
      "image/png": "[encoded data removed]",
      "text/plain": [
       "<Figure size 432x288 with 1 Axes>"
      ]
     },
     "metadata": {
      "needs_background": "light"
     },
     "output_type": "display_data"
    }
   ],
   "source": [
    "plt.bar(ddate_list,dailysales)"
   ]
  },
  {
   "cell_type": "code",
   "execution_count": null,
   "id": "6f286f07-c48f-4255-9201-c2f0ca16d1d1",
   "metadata": {},
   "outputs": [],
   "source": [
    "#group sales by day"
   ]
  },
  {
   "cell_type": "code",
   "execution_count": 25,
   "id": "a1fd9482-0b6e-49ac-8ec7-2a155f34afef",
   "metadata": {},
   "outputs": [],
   "source": [
    "#save sales df as csv\n",
    "datasales.to_csv('sales.csv')"
   ]
  },
  {
   "cell_type": "code",
   "execution_count": 11,
   "id": "ef3a44ce-1ab5-41b1-a3aa-cefb610243e8",
   "metadata": {},
   "outputs": [],
   "source": [
    "from statsmodels.tsa.stattools import adfuller"
   ]
  },
  {
   "cell_type": "code",
   "execution_count": 12,
   "id": "0e9e2dd2-9ecb-4410-8421-4f693e68b5ed",
   "metadata": {},
   "outputs": [
    {
     "name": "stdout",
     "output_type": "stream",
     "text": [
      "ADF Statistic: -1.853534\n",
      "p-value: 0.354226\n",
      "Critical Values:\n",
      "\t1%: -3.442\n",
      "\t5%: -2.867\n",
      "\t10%: -2.569\n"
     ]
    }
   ],
   "source": [
    "X = dailysales\n",
    "result = adfuller(X)\n",
    "print('ADF Statistic: %f' % result[0])\n",
    "print('p-value: %f' % result[1])\n",
    "print('Critical Values:')\n",
    "for key, value in result[4].items():\n",
    "\tprint('\\t%s: %.3f' % (key, value))"
   ]
  },
  {
   "cell_type": "code",
   "execution_count": 13,
   "id": "d3d48bae-817a-407c-a22c-b2a8727050e5",
   "metadata": {},
   "outputs": [
    {
     "name": "stdout",
     "output_type": "stream",
     "text": [
      "ADF Statistic: -2.733226\n",
      "p-value: 0.068463\n",
      "Critical Values:\n",
      "\t1%: -3.496\n",
      "\t5%: -2.890\n",
      "\t10%: -2.582\n"
     ]
    }
   ],
   "source": [
    "X = weeklysales\n",
    "result = adfuller(X)\n",
    "print('ADF Statistic: %f' % result[0])\n",
    "print('p-value: %f' % result[1])\n",
    "print('Critical Values:')\n",
    "for key, value in result[4].items():\n",
    "\tprint('\\t%s: %.3f' % (key, value))"
   ]
  },
  {
   "cell_type": "code",
   "execution_count": 14,
   "id": "629a91c9-2f31-4069-953b-b4ab039572ee",
   "metadata": {},
   "outputs": [
    {
     "name": "stdout",
     "output_type": "stream",
     "text": [
      "ADF Statistic: -3.734053\n",
      "p-value: 0.003659\n",
      "Critical Values:\n",
      "\t1%: -3.964\n",
      "\t5%: -3.085\n",
      "\t10%: -2.682\n"
     ]
    }
   ],
   "source": [
    "X = monthlysales\n",
    "result = adfuller(X)\n",
    "print('ADF Statistic: %f' % result[0])\n",
    "print('p-value: %f' % result[1])\n",
    "print('Critical Values:')\n",
    "for key, value in result[4].items():\n",
    "\tprint('\\t%s: %.3f' % (key, value))"
   ]
  },
  {
   "cell_type": "code",
   "execution_count": 16,
   "id": "be018bf6-96b3-42dd-8459-21e96ca7df24",
   "metadata": {},
   "outputs": [
    {
     "data": {
      "text/plain": [
       "{'whiskers': [<matplotlib.lines.Line2D at 0x2b9aa17f160>,\n",
       "  <matplotlib.lines.Line2D at 0x2b9aa17f430>],\n",
       " 'caps': [<matplotlib.lines.Line2D at 0x2b9aa17f700>,\n",
       "  <matplotlib.lines.Line2D at 0x2b9aa17f9d0>],\n",
       " 'boxes': [<matplotlib.lines.Line2D at 0x2b9aa17efb0>],\n",
       " 'medians': [<matplotlib.lines.Line2D at 0x2b9aa17fca0>],\n",
       " 'fliers': [<matplotlib.lines.Line2D at 0x2b9aa17ff70>],\n",
       " 'means': []}"
      ]
     },
     "execution_count": 16,
     "metadata": {},
     "output_type": "execute_result"
    },
    {
     "data": {
      "image/png": "[encoded data removed]",
      "text/plain": [
       "<Figure size 432x288 with 1 Axes>"
      ]
     },
     "metadata": {
      "needs_background": "light"
     },
     "output_type": "display_data"
    }
   ],
   "source": [
    "plt.boxplot(dailysales)"
   ]
  },
  {
   "cell_type": "code",
   "execution_count": 15,
   "id": "94393253-2225-4c73-ac9a-554e4a95ac4d",
   "metadata": {},
   "outputs": [
    {
     "data": {
      "text/plain": [
       "{'whiskers': [<matplotlib.lines.Line2D at 0x2b9aa188d90>,\n",
       "  <matplotlib.lines.Line2D at 0x2b9aa189060>],\n",
       " 'caps': [<matplotlib.lines.Line2D at 0x2b9aa189330>,\n",
       "  <matplotlib.lines.Line2D at 0x2b9aa189600>],\n",
       " 'boxes': [<matplotlib.lines.Line2D at 0x2b9aa188ac0>],\n",
       " 'medians': [<matplotlib.lines.Line2D at 0x2b9aa1898d0>],\n",
       " 'fliers': [<matplotlib.lines.Line2D at 0x2b9aa189ba0>],\n",
       " 'means': []}"
      ]
     },
     "execution_count": 15,
     "metadata": {},
     "output_type": "execute_result"
    },
    {
     "data": {
      "image/png": "[encoded data removed]",
      "text/plain": [
       "<Figure size 432x288 with 1 Axes>"
      ]
     },
     "metadata": {
      "needs_background": "light"
     },
     "output_type": "display_data"
    }
   ],
   "source": [
    "plt.boxplot(weeklysales)"
   ]
  },
  {
   "cell_type": "code",
   "execution_count": 17,
   "id": "cd96fa8d-ca8f-499c-8f55-c32086ea09f8",
   "metadata": {},
   "outputs": [
    {
     "data": {
      "text/plain": [
       "{'whiskers': [<matplotlib.lines.Line2D at 0x2b9ab9b4fa0>,\n",
       "  <matplotlib.lines.Line2D at 0x2b9ab9b5270>],\n",
       " 'caps': [<matplotlib.lines.Line2D at 0x2b9ab9b5540>,\n",
       "  <matplotlib.lines.Line2D at 0x2b9ab9b5810>],\n",
       " 'boxes': [<matplotlib.lines.Line2D at 0x2b9ab9b4cd0>],\n",
       " 'medians': [<matplotlib.lines.Line2D at 0x2b9ab9b5ae0>],\n",
       " 'fliers': [<matplotlib.lines.Line2D at 0x2b9ab9b5db0>],\n",
       " 'means': []}"
      ]
     },
     "execution_count": 17,
     "metadata": {},
     "output_type": "execute_result"
    },
    {
     "data": {
      "image/png": "[encoded data removed]",
      "text/plain": [
       "<Figure size 432x288 with 1 Axes>"
      ]
     },
     "metadata": {
      "needs_background": "light"
     },
     "output_type": "display_data"
    }
   ],
   "source": [
    "plt.boxplot(monthlysales)"
   ]
  },
  {
   "cell_type": "code",
   "execution_count": 23,
   "id": "a5c28fa3-6f75-4d1f-8a41-d4d15145a736",
   "metadata": {},
   "outputs": [],
   "source": [
    "prophetdf = pd.DataFrame()\n",
    "prophetdf['ds'] = datasales['InvoiceDate'].dt.date\n",
    "prophetdf['y'] = datasales['Sales']\n",
    "#prophetdf = prophetdf.groupby(prophetdf['ds']).sum()"
   ]
  },
  {
   "cell_type": "code",
   "execution_count": 21,
   "id": "a1dd0175-0159-409c-bada-22b5bd1614b6",
   "metadata": {},
   "outputs": [],
   "source": [
    "prophetdf.to_csv('prophetdf.csv')"
   ]
  },
  {
   "cell_type": "code",
   "execution_count": 24,
   "id": "15b55421-5f46-4d17-902f-f90e9a60621b",
   "metadata": {},
   "outputs": [],
   "source": [
    "from prophet import Prophet\n"
   ]
  },
  {
   "cell_type": "code",
   "execution_count": 29,
   "id": "79c93a08-ed24-4582-b80c-685168e49e57",
   "metadata": {},
   "outputs": [],
   "source": []
  }
 ],
 "metadata": {
  "kernelspec": {
   "display_name": "datasci",
   "language": "python",
   "name": "datasci"
  },
  "language_info": {
   "codemirror_mode": {
    "name": "ipython",
    "version": 3
   },
   "file_extension": ".py",
   "mimetype": "text/x-python",
   "name": "python",
   "nbconvert_exporter": "python",
   "pygments_lexer": "ipython3",
   "version": "3.10.4"
  }
 },
 "nbformat": 4,
 "nbformat_minor": 5
}
